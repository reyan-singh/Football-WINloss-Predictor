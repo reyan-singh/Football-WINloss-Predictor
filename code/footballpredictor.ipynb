{
 "cells": [
  {
   "cell_type": "code",
   "execution_count": 2,
   "id": "initial_id",
   "metadata": {
    "collapsed": true,
    "ExecuteTime": {
     "end_time": "2024-04-11T12:29:15.618869Z",
     "start_time": "2024-04-11T12:29:14.869926Z"
    }
   },
   "outputs": [],
   "source": [
    "import pandas as pd\n"
   ]
  },
  {
   "cell_type": "code",
   "outputs": [],
   "source": [
    "matches = pd.read_csv(\"matches.csv\", index_col=0)"
   ],
   "metadata": {
    "collapsed": false,
    "ExecuteTime": {
     "end_time": "2024-04-11T12:37:35.110487Z",
     "start_time": "2024-04-11T12:37:35.043938Z"
    }
   },
   "id": "c4354327df1d001c",
   "execution_count": 4
  },
  {
   "cell_type": "code",
   "outputs": [
    {
     "data": {
      "text/plain": "         date   time            comp        round  day venue result   gf   ga  \\\n1  2021-08-15  16:30  Premier League  Matchweek 1  Sun  Away      L  0.0  1.0   \n2  2021-08-21  15:00  Premier League  Matchweek 2  Sat  Home      W  5.0  0.0   \n3  2021-08-28  12:30  Premier League  Matchweek 3  Sat  Home      W  5.0  0.0   \n4  2021-09-11  15:00  Premier League  Matchweek 4  Sat  Away      W  1.0  0.0   \n6  2021-09-18  15:00  Premier League  Matchweek 5  Sat  Home      D  0.0  0.0   \n\n         opponent  ...  match report  notes    sh   sot  dist   fk   pk pkatt  \\\n1       Tottenham  ...  Match Report    NaN  18.0   4.0  16.9  1.0  0.0   0.0   \n2    Norwich City  ...  Match Report    NaN  16.0   4.0  17.3  1.0  0.0   0.0   \n3         Arsenal  ...  Match Report    NaN  25.0  10.0  14.3  0.0  0.0   0.0   \n4  Leicester City  ...  Match Report    NaN  25.0   8.0  14.0  0.0  0.0   0.0   \n6     Southampton  ...  Match Report    NaN  16.0   1.0  15.7  1.0  0.0   0.0   \n\n   season             team  \n1    2022  Manchester City  \n2    2022  Manchester City  \n3    2022  Manchester City  \n4    2022  Manchester City  \n6    2022  Manchester City  \n\n[5 rows x 27 columns]",
      "text/html": "<div>\n<style scoped>\n    .dataframe tbody tr th:only-of-type {\n        vertical-align: middle;\n    }\n\n    .dataframe tbody tr th {\n        vertical-align: top;\n    }\n\n    .dataframe thead th {\n        text-align: right;\n    }\n</style>\n<table border=\"1\" class=\"dataframe\">\n  <thead>\n    <tr style=\"text-align: right;\">\n      <th></th>\n      <th>date</th>\n      <th>time</th>\n      <th>comp</th>\n      <th>round</th>\n      <th>day</th>\n      <th>venue</th>\n      <th>result</th>\n      <th>gf</th>\n      <th>ga</th>\n      <th>opponent</th>\n      <th>...</th>\n      <th>match report</th>\n      <th>notes</th>\n      <th>sh</th>\n      <th>sot</th>\n      <th>dist</th>\n      <th>fk</th>\n      <th>pk</th>\n      <th>pkatt</th>\n      <th>season</th>\n      <th>team</th>\n    </tr>\n  </thead>\n  <tbody>\n    <tr>\n      <th>1</th>\n      <td>2021-08-15</td>\n      <td>16:30</td>\n      <td>Premier League</td>\n      <td>Matchweek 1</td>\n      <td>Sun</td>\n      <td>Away</td>\n      <td>L</td>\n      <td>0.0</td>\n      <td>1.0</td>\n      <td>Tottenham</td>\n      <td>...</td>\n      <td>Match Report</td>\n      <td>NaN</td>\n      <td>18.0</td>\n      <td>4.0</td>\n      <td>16.9</td>\n      <td>1.0</td>\n      <td>0.0</td>\n      <td>0.0</td>\n      <td>2022</td>\n      <td>Manchester City</td>\n    </tr>\n    <tr>\n      <th>2</th>\n      <td>2021-08-21</td>\n      <td>15:00</td>\n      <td>Premier League</td>\n      <td>Matchweek 2</td>\n      <td>Sat</td>\n      <td>Home</td>\n      <td>W</td>\n      <td>5.0</td>\n      <td>0.0</td>\n      <td>Norwich City</td>\n      <td>...</td>\n      <td>Match Report</td>\n      <td>NaN</td>\n      <td>16.0</td>\n      <td>4.0</td>\n      <td>17.3</td>\n      <td>1.0</td>\n      <td>0.0</td>\n      <td>0.0</td>\n      <td>2022</td>\n      <td>Manchester City</td>\n    </tr>\n    <tr>\n      <th>3</th>\n      <td>2021-08-28</td>\n      <td>12:30</td>\n      <td>Premier League</td>\n      <td>Matchweek 3</td>\n      <td>Sat</td>\n      <td>Home</td>\n      <td>W</td>\n      <td>5.0</td>\n      <td>0.0</td>\n      <td>Arsenal</td>\n      <td>...</td>\n      <td>Match Report</td>\n      <td>NaN</td>\n      <td>25.0</td>\n      <td>10.0</td>\n      <td>14.3</td>\n      <td>0.0</td>\n      <td>0.0</td>\n      <td>0.0</td>\n      <td>2022</td>\n      <td>Manchester City</td>\n    </tr>\n    <tr>\n      <th>4</th>\n      <td>2021-09-11</td>\n      <td>15:00</td>\n      <td>Premier League</td>\n      <td>Matchweek 4</td>\n      <td>Sat</td>\n      <td>Away</td>\n      <td>W</td>\n      <td>1.0</td>\n      <td>0.0</td>\n      <td>Leicester City</td>\n      <td>...</td>\n      <td>Match Report</td>\n      <td>NaN</td>\n      <td>25.0</td>\n      <td>8.0</td>\n      <td>14.0</td>\n      <td>0.0</td>\n      <td>0.0</td>\n      <td>0.0</td>\n      <td>2022</td>\n      <td>Manchester City</td>\n    </tr>\n    <tr>\n      <th>6</th>\n      <td>2021-09-18</td>\n      <td>15:00</td>\n      <td>Premier League</td>\n      <td>Matchweek 5</td>\n      <td>Sat</td>\n      <td>Home</td>\n      <td>D</td>\n      <td>0.0</td>\n      <td>0.0</td>\n      <td>Southampton</td>\n      <td>...</td>\n      <td>Match Report</td>\n      <td>NaN</td>\n      <td>16.0</td>\n      <td>1.0</td>\n      <td>15.7</td>\n      <td>1.0</td>\n      <td>0.0</td>\n      <td>0.0</td>\n      <td>2022</td>\n      <td>Manchester City</td>\n    </tr>\n  </tbody>\n</table>\n<p>5 rows × 27 columns</p>\n</div>"
     },
     "execution_count": 5,
     "metadata": {},
     "output_type": "execute_result"
    }
   ],
   "source": [
    "matches.head()"
   ],
   "metadata": {
    "collapsed": false,
    "ExecuteTime": {
     "end_time": "2024-04-11T12:37:46.791256Z",
     "start_time": "2024-04-11T12:37:46.630665Z"
    }
   },
   "id": "e357c8a2a9da49cf",
   "execution_count": 5
  },
  {
   "cell_type": "code",
   "outputs": [
    {
     "data": {
      "text/plain": "(1389, 27)"
     },
     "execution_count": 6,
     "metadata": {},
     "output_type": "execute_result"
    }
   ],
   "source": [
    "matches.shape\n"
   ],
   "metadata": {
    "collapsed": false,
    "ExecuteTime": {
     "end_time": "2024-04-11T12:38:03.308048Z",
     "start_time": "2024-04-11T12:38:03.303152Z"
    }
   },
   "id": "dcaeb5ef3fa7d5d9",
   "execution_count": 6
  },
  {
   "cell_type": "code",
   "outputs": [
    {
     "data": {
      "text/plain": "1520"
     },
     "execution_count": 7,
     "metadata": {},
     "output_type": "execute_result"
    }
   ],
   "source": [
    "2 * 20 * 38"
   ],
   "metadata": {
    "collapsed": false,
    "ExecuteTime": {
     "end_time": "2024-04-11T12:38:16.012936Z",
     "start_time": "2024-04-11T12:38:15.993377Z"
    }
   },
   "id": "3e09478bd3f69042",
   "execution_count": 7
  },
  {
   "cell_type": "code",
   "outputs": [
    {
     "data": {
      "text/plain": "team\nSouthampton                 72\nBrighton and Hove Albion    72\nManchester United           72\nWest Ham United             72\nNewcastle United            72\nBurnley                     71\nLeeds United                71\nCrystal Palace              71\nManchester City             71\nWolverhampton Wanderers     71\nTottenham Hotspur           71\nArsenal                     71\nLeicester City              70\nChelsea                     70\nAston Villa                 70\nEverton                     70\nLiverpool                   38\nFulham                      38\nWest Bromwich Albion        38\nSheffield United            38\nBrentford                   34\nWatford                     33\nNorwich City                33\nName: count, dtype: int64"
     },
     "execution_count": 8,
     "metadata": {},
     "output_type": "execute_result"
    }
   ],
   "source": [
    "matches[\"team\"].value_counts()"
   ],
   "metadata": {
    "collapsed": false,
    "ExecuteTime": {
     "end_time": "2024-04-11T12:38:33.125521Z",
     "start_time": "2024-04-11T12:38:33.122629Z"
    }
   },
   "id": "ed92df59439de27a",
   "execution_count": 8
  },
  {
   "cell_type": "code",
   "outputs": [
    {
     "data": {
      "text/plain": "          date   time            comp         round  day venue result   gf  \\\n1   2020-09-12  17:30  Premier League   Matchweek 1  Sat  Home      W  4.0   \n2   2020-09-20  16:30  Premier League   Matchweek 2  Sun  Away      W  2.0   \n4   2020-09-28  20:00  Premier League   Matchweek 3  Mon  Home      W  3.0   \n6   2020-10-04  19:15  Premier League   Matchweek 4  Sun  Away      L  2.0   \n7   2020-10-17  12:30  Premier League   Matchweek 5  Sat  Away      D  2.0   \n9   2020-10-24  20:00  Premier League   Matchweek 6  Sat  Home      W  2.0   \n11  2020-10-31  17:30  Premier League   Matchweek 7  Sat  Home      W  2.0   \n13  2020-11-08  16:30  Premier League   Matchweek 8  Sun  Away      D  1.0   \n14  2020-11-22  19:15  Premier League   Matchweek 9  Sun  Home      W  3.0   \n16  2020-11-28  12:30  Premier League  Matchweek 10  Sat  Away      D  1.0   \n18  2020-12-06  19:15  Premier League  Matchweek 11  Sun  Home      W  4.0   \n20  2020-12-13  16:30  Premier League  Matchweek 12  Sun  Away      D  1.0   \n21  2020-12-16  20:00  Premier League  Matchweek 13  Wed  Home      W  2.0   \n22  2020-12-19  12:30  Premier League  Matchweek 14  Sat  Away      W  7.0   \n23  2020-12-27  16:30  Premier League  Matchweek 15  Sun  Home      D  1.0   \n24  2020-12-30  20:00  Premier League  Matchweek 16  Wed  Away      D  0.0   \n25  2021-01-04  20:00  Premier League  Matchweek 17  Mon  Away      L  0.0   \n27  2021-01-17  16:30  Premier League  Matchweek 19  Sun  Home      D  0.0   \n28  2021-01-21  20:00  Premier League  Matchweek 18  Thu  Home      L  0.0   \n30  2021-01-28  20:00  Premier League  Matchweek 20  Thu  Away      W  3.0   \n31  2021-01-31  16:30  Premier League  Matchweek 21  Sun  Away      W  3.0   \n32  2021-02-03  20:15  Premier League  Matchweek 22  Wed  Home      L  0.0   \n33  2021-02-07  16:30  Premier League  Matchweek 23  Sun  Home      L  1.0   \n34  2021-02-13  12:30  Premier League  Matchweek 24  Sat  Away      L  1.0   \n36  2021-02-20  17:30  Premier League  Matchweek 25  Sat  Home      L  0.0   \n37  2021-02-28  19:15  Premier League  Matchweek 26  Sun  Away      W  2.0   \n38  2021-03-04  20:15  Premier League  Matchweek 29  Thu  Home      L  0.0   \n39  2021-03-07  14:00  Premier League  Matchweek 27  Sun  Home      L  0.0   \n41  2021-03-15  20:00  Premier League  Matchweek 28  Mon  Away      W  1.0   \n42  2021-04-03  20:00  Premier League  Matchweek 30  Sat  Away      W  3.0   \n44  2021-04-10  15:00  Premier League  Matchweek 31  Sat  Home      W  2.0   \n46  2021-04-19  20:00  Premier League  Matchweek 32  Mon  Away      D  1.0   \n47  2021-04-24  12:30  Premier League  Matchweek 33  Sat  Home      D  1.0   \n48  2021-05-08  20:15  Premier League  Matchweek 35  Sat  Home      W  2.0   \n49  2021-05-13  20:15  Premier League  Matchweek 34  Thu  Away      W  4.0   \n50  2021-05-16  16:30  Premier League  Matchweek 36  Sun  Away      W  2.0   \n51  2021-05-19  20:15  Premier League  Matchweek 37  Wed  Away      W  3.0   \n52  2021-05-23  16:00  Premier League  Matchweek 38  Sun  Home      W  2.0   \n\n     ga         opponent  ...  match report  notes    sh   sot  dist   fk  \\\n1   3.0     Leeds United  ...  Match Report    NaN  20.0   4.0  17.0  0.0   \n2   0.0          Chelsea  ...  Match Report    NaN  17.0   5.0  17.7  1.0   \n4   1.0          Arsenal  ...  Match Report    NaN  21.0   9.0  16.8  0.0   \n6   7.0      Aston Villa  ...  Match Report    NaN  14.0   8.0  15.8  1.0   \n7   2.0          Everton  ...  Match Report    NaN  22.0   8.0  15.0  1.0   \n9   1.0    Sheffield Utd  ...  Match Report    NaN  17.0   5.0  18.2  1.0   \n11  1.0         West Ham  ...  Match Report    NaN   8.0   2.0  18.6  1.0   \n13  1.0  Manchester City  ...  Match Report    NaN   9.0   2.0  21.5  0.0   \n14  0.0   Leicester City  ...  Match Report    NaN  24.0  12.0  11.9  0.0   \n16  1.0         Brighton  ...  Match Report    NaN   6.0   2.0  20.9  0.0   \n18  0.0           Wolves  ...  Match Report    NaN  11.0   6.0  16.6  1.0   \n20  1.0           Fulham  ...  Match Report    NaN  11.0   5.0  20.0  1.0   \n21  1.0        Tottenham  ...  Match Report    NaN  17.0  11.0  15.5  0.0   \n22  0.0   Crystal Palace  ...  Match Report    NaN  14.0   7.0  13.2  1.0   \n23  1.0        West Brom  ...  Match Report    NaN  17.0   2.0  17.8  2.0   \n24  0.0    Newcastle Utd  ...  Match Report    NaN  11.0   4.0  16.7  0.0   \n25  1.0      Southampton  ...  Match Report    NaN  17.0   1.0  14.3  0.0   \n27  0.0   Manchester Utd  ...  Match Report    NaN  17.0   3.0  17.1  0.0   \n28  1.0          Burnley  ...  Match Report    NaN  27.0   6.0  17.3  0.0   \n30  1.0        Tottenham  ...  Match Report    NaN  14.0   7.0  14.7  0.0   \n31  1.0         West Ham  ...  Match Report    NaN  14.0   5.0  15.3  0.0   \n32  1.0         Brighton  ...  Match Report    NaN  11.0   0.0  19.9  0.0   \n33  4.0  Manchester City  ...  Match Report    NaN   7.0   2.0  17.9  1.0   \n34  3.0   Leicester City  ...  Match Report    NaN  15.0   4.0  15.4  2.0   \n36  2.0          Everton  ...  Match Report    NaN  16.0   6.0  15.9  1.0   \n37  0.0    Sheffield Utd  ...  Match Report    NaN  15.0   8.0  14.2  0.0   \n38  1.0          Chelsea  ...  Match Report    NaN   7.0   1.0  18.4  0.0   \n39  1.0           Fulham  ...  Match Report    NaN  16.0   3.0  17.0  1.0   \n41  0.0           Wolves  ...  Match Report    NaN  12.0   4.0  15.9  0.0   \n42  0.0          Arsenal  ...  Match Report    NaN  16.0   7.0  17.0  0.0   \n44  1.0      Aston Villa  ...  Match Report    NaN  23.0   8.0  16.7  1.0   \n46  1.0     Leeds United  ...  Match Report    NaN  17.0   7.0  15.7  0.0   \n47  1.0    Newcastle Utd  ...  Match Report    NaN  21.0   9.0  17.0  1.0   \n48  0.0      Southampton  ...  Match Report    NaN  14.0   6.0  12.4  0.0   \n49  2.0   Manchester Utd  ...  Match Report    NaN  17.0   8.0  14.9  0.0   \n50  1.0        West Brom  ...  Match Report    NaN  26.0   6.0  16.9  1.0   \n51  0.0          Burnley  ...  Match Report    NaN  20.0   3.0  15.5  1.0   \n52  0.0   Crystal Palace  ...  Match Report    NaN  19.0   5.0  14.2  1.0   \n\n     pk pkatt  season       team  \n1   2.0   2.0    2021  Liverpool  \n2   0.0   0.0    2021  Liverpool  \n4   0.0   0.0    2021  Liverpool  \n6   0.0   0.0    2021  Liverpool  \n7   0.0   0.0    2021  Liverpool  \n9   0.0   0.0    2021  Liverpool  \n11  1.0   1.0    2021  Liverpool  \n13  1.0   1.0    2021  Liverpool  \n14  0.0   0.0    2021  Liverpool  \n16  0.0   0.0    2021  Liverpool  \n18  0.0   0.0    2021  Liverpool  \n20  1.0   1.0    2021  Liverpool  \n21  0.0   0.0    2021  Liverpool  \n22  0.0   0.0    2021  Liverpool  \n23  0.0   0.0    2021  Liverpool  \n24  0.0   0.0    2021  Liverpool  \n25  0.0   0.0    2021  Liverpool  \n27  0.0   0.0    2021  Liverpool  \n28  0.0   0.0    2021  Liverpool  \n30  0.0   0.0    2021  Liverpool  \n31  0.0   0.0    2021  Liverpool  \n32  0.0   0.0    2021  Liverpool  \n33  1.0   1.0    2021  Liverpool  \n34  0.0   0.0    2021  Liverpool  \n36  0.0   0.0    2021  Liverpool  \n37  0.0   0.0    2021  Liverpool  \n38  0.0   0.0    2021  Liverpool  \n39  0.0   0.0    2021  Liverpool  \n41  0.0   0.0    2021  Liverpool  \n42  0.0   0.0    2021  Liverpool  \n44  0.0   0.0    2021  Liverpool  \n46  0.0   0.0    2021  Liverpool  \n47  0.0   0.0    2021  Liverpool  \n48  0.0   0.0    2021  Liverpool  \n49  0.0   0.0    2021  Liverpool  \n50  0.0   0.0    2021  Liverpool  \n51  0.0   0.0    2021  Liverpool  \n52  0.0   0.0    2021  Liverpool  \n\n[38 rows x 27 columns]",
      "text/html": "<div>\n<style scoped>\n    .dataframe tbody tr th:only-of-type {\n        vertical-align: middle;\n    }\n\n    .dataframe tbody tr th {\n        vertical-align: top;\n    }\n\n    .dataframe thead th {\n        text-align: right;\n    }\n</style>\n<table border=\"1\" class=\"dataframe\">\n  <thead>\n    <tr style=\"text-align: right;\">\n      <th></th>\n      <th>date</th>\n      <th>time</th>\n      <th>comp</th>\n      <th>round</th>\n      <th>day</th>\n      <th>venue</th>\n      <th>result</th>\n      <th>gf</th>\n      <th>ga</th>\n      <th>opponent</th>\n      <th>...</th>\n      <th>match report</th>\n      <th>notes</th>\n      <th>sh</th>\n      <th>sot</th>\n      <th>dist</th>\n      <th>fk</th>\n      <th>pk</th>\n      <th>pkatt</th>\n      <th>season</th>\n      <th>team</th>\n    </tr>\n  </thead>\n  <tbody>\n    <tr>\n      <th>1</th>\n      <td>2020-09-12</td>\n      <td>17:30</td>\n      <td>Premier League</td>\n      <td>Matchweek 1</td>\n      <td>Sat</td>\n      <td>Home</td>\n      <td>W</td>\n      <td>4.0</td>\n      <td>3.0</td>\n      <td>Leeds United</td>\n      <td>...</td>\n      <td>Match Report</td>\n      <td>NaN</td>\n      <td>20.0</td>\n      <td>4.0</td>\n      <td>17.0</td>\n      <td>0.0</td>\n      <td>2.0</td>\n      <td>2.0</td>\n      <td>2021</td>\n      <td>Liverpool</td>\n    </tr>\n    <tr>\n      <th>2</th>\n      <td>2020-09-20</td>\n      <td>16:30</td>\n      <td>Premier League</td>\n      <td>Matchweek 2</td>\n      <td>Sun</td>\n      <td>Away</td>\n      <td>W</td>\n      <td>2.0</td>\n      <td>0.0</td>\n      <td>Chelsea</td>\n      <td>...</td>\n      <td>Match Report</td>\n      <td>NaN</td>\n      <td>17.0</td>\n      <td>5.0</td>\n      <td>17.7</td>\n      <td>1.0</td>\n      <td>0.0</td>\n      <td>0.0</td>\n      <td>2021</td>\n      <td>Liverpool</td>\n    </tr>\n    <tr>\n      <th>4</th>\n      <td>2020-09-28</td>\n      <td>20:00</td>\n      <td>Premier League</td>\n      <td>Matchweek 3</td>\n      <td>Mon</td>\n      <td>Home</td>\n      <td>W</td>\n      <td>3.0</td>\n      <td>1.0</td>\n      <td>Arsenal</td>\n      <td>...</td>\n      <td>Match Report</td>\n      <td>NaN</td>\n      <td>21.0</td>\n      <td>9.0</td>\n      <td>16.8</td>\n      <td>0.0</td>\n      <td>0.0</td>\n      <td>0.0</td>\n      <td>2021</td>\n      <td>Liverpool</td>\n    </tr>\n    <tr>\n      <th>6</th>\n      <td>2020-10-04</td>\n      <td>19:15</td>\n      <td>Premier League</td>\n      <td>Matchweek 4</td>\n      <td>Sun</td>\n      <td>Away</td>\n      <td>L</td>\n      <td>2.0</td>\n      <td>7.0</td>\n      <td>Aston Villa</td>\n      <td>...</td>\n      <td>Match Report</td>\n      <td>NaN</td>\n      <td>14.0</td>\n      <td>8.0</td>\n      <td>15.8</td>\n      <td>1.0</td>\n      <td>0.0</td>\n      <td>0.0</td>\n      <td>2021</td>\n      <td>Liverpool</td>\n    </tr>\n    <tr>\n      <th>7</th>\n      <td>2020-10-17</td>\n      <td>12:30</td>\n      <td>Premier League</td>\n      <td>Matchweek 5</td>\n      <td>Sat</td>\n      <td>Away</td>\n      <td>D</td>\n      <td>2.0</td>\n      <td>2.0</td>\n      <td>Everton</td>\n      <td>...</td>\n      <td>Match Report</td>\n      <td>NaN</td>\n      <td>22.0</td>\n      <td>8.0</td>\n      <td>15.0</td>\n      <td>1.0</td>\n      <td>0.0</td>\n      <td>0.0</td>\n      <td>2021</td>\n      <td>Liverpool</td>\n    </tr>\n    <tr>\n      <th>9</th>\n      <td>2020-10-24</td>\n      <td>20:00</td>\n      <td>Premier League</td>\n      <td>Matchweek 6</td>\n      <td>Sat</td>\n      <td>Home</td>\n      <td>W</td>\n      <td>2.0</td>\n      <td>1.0</td>\n      <td>Sheffield Utd</td>\n      <td>...</td>\n      <td>Match Report</td>\n      <td>NaN</td>\n      <td>17.0</td>\n      <td>5.0</td>\n      <td>18.2</td>\n      <td>1.0</td>\n      <td>0.0</td>\n      <td>0.0</td>\n      <td>2021</td>\n      <td>Liverpool</td>\n    </tr>\n    <tr>\n      <th>11</th>\n      <td>2020-10-31</td>\n      <td>17:30</td>\n      <td>Premier League</td>\n      <td>Matchweek 7</td>\n      <td>Sat</td>\n      <td>Home</td>\n      <td>W</td>\n      <td>2.0</td>\n      <td>1.0</td>\n      <td>West Ham</td>\n      <td>...</td>\n      <td>Match Report</td>\n      <td>NaN</td>\n      <td>8.0</td>\n      <td>2.0</td>\n      <td>18.6</td>\n      <td>1.0</td>\n      <td>1.0</td>\n      <td>1.0</td>\n      <td>2021</td>\n      <td>Liverpool</td>\n    </tr>\n    <tr>\n      <th>13</th>\n      <td>2020-11-08</td>\n      <td>16:30</td>\n      <td>Premier League</td>\n      <td>Matchweek 8</td>\n      <td>Sun</td>\n      <td>Away</td>\n      <td>D</td>\n      <td>1.0</td>\n      <td>1.0</td>\n      <td>Manchester City</td>\n      <td>...</td>\n      <td>Match Report</td>\n      <td>NaN</td>\n      <td>9.0</td>\n      <td>2.0</td>\n      <td>21.5</td>\n      <td>0.0</td>\n      <td>1.0</td>\n      <td>1.0</td>\n      <td>2021</td>\n      <td>Liverpool</td>\n    </tr>\n    <tr>\n      <th>14</th>\n      <td>2020-11-22</td>\n      <td>19:15</td>\n      <td>Premier League</td>\n      <td>Matchweek 9</td>\n      <td>Sun</td>\n      <td>Home</td>\n      <td>W</td>\n      <td>3.0</td>\n      <td>0.0</td>\n      <td>Leicester City</td>\n      <td>...</td>\n      <td>Match Report</td>\n      <td>NaN</td>\n      <td>24.0</td>\n      <td>12.0</td>\n      <td>11.9</td>\n      <td>0.0</td>\n      <td>0.0</td>\n      <td>0.0</td>\n      <td>2021</td>\n      <td>Liverpool</td>\n    </tr>\n    <tr>\n      <th>16</th>\n      <td>2020-11-28</td>\n      <td>12:30</td>\n      <td>Premier League</td>\n      <td>Matchweek 10</td>\n      <td>Sat</td>\n      <td>Away</td>\n      <td>D</td>\n      <td>1.0</td>\n      <td>1.0</td>\n      <td>Brighton</td>\n      <td>...</td>\n      <td>Match Report</td>\n      <td>NaN</td>\n      <td>6.0</td>\n      <td>2.0</td>\n      <td>20.9</td>\n      <td>0.0</td>\n      <td>0.0</td>\n      <td>0.0</td>\n      <td>2021</td>\n      <td>Liverpool</td>\n    </tr>\n    <tr>\n      <th>18</th>\n      <td>2020-12-06</td>\n      <td>19:15</td>\n      <td>Premier League</td>\n      <td>Matchweek 11</td>\n      <td>Sun</td>\n      <td>Home</td>\n      <td>W</td>\n      <td>4.0</td>\n      <td>0.0</td>\n      <td>Wolves</td>\n      <td>...</td>\n      <td>Match Report</td>\n      <td>NaN</td>\n      <td>11.0</td>\n      <td>6.0</td>\n      <td>16.6</td>\n      <td>1.0</td>\n      <td>0.0</td>\n      <td>0.0</td>\n      <td>2021</td>\n      <td>Liverpool</td>\n    </tr>\n    <tr>\n      <th>20</th>\n      <td>2020-12-13</td>\n      <td>16:30</td>\n      <td>Premier League</td>\n      <td>Matchweek 12</td>\n      <td>Sun</td>\n      <td>Away</td>\n      <td>D</td>\n      <td>1.0</td>\n      <td>1.0</td>\n      <td>Fulham</td>\n      <td>...</td>\n      <td>Match Report</td>\n      <td>NaN</td>\n      <td>11.0</td>\n      <td>5.0</td>\n      <td>20.0</td>\n      <td>1.0</td>\n      <td>1.0</td>\n      <td>1.0</td>\n      <td>2021</td>\n      <td>Liverpool</td>\n    </tr>\n    <tr>\n      <th>21</th>\n      <td>2020-12-16</td>\n      <td>20:00</td>\n      <td>Premier League</td>\n      <td>Matchweek 13</td>\n      <td>Wed</td>\n      <td>Home</td>\n      <td>W</td>\n      <td>2.0</td>\n      <td>1.0</td>\n      <td>Tottenham</td>\n      <td>...</td>\n      <td>Match Report</td>\n      <td>NaN</td>\n      <td>17.0</td>\n      <td>11.0</td>\n      <td>15.5</td>\n      <td>0.0</td>\n      <td>0.0</td>\n      <td>0.0</td>\n      <td>2021</td>\n      <td>Liverpool</td>\n    </tr>\n    <tr>\n      <th>22</th>\n      <td>2020-12-19</td>\n      <td>12:30</td>\n      <td>Premier League</td>\n      <td>Matchweek 14</td>\n      <td>Sat</td>\n      <td>Away</td>\n      <td>W</td>\n      <td>7.0</td>\n      <td>0.0</td>\n      <td>Crystal Palace</td>\n      <td>...</td>\n      <td>Match Report</td>\n      <td>NaN</td>\n      <td>14.0</td>\n      <td>7.0</td>\n      <td>13.2</td>\n      <td>1.0</td>\n      <td>0.0</td>\n      <td>0.0</td>\n      <td>2021</td>\n      <td>Liverpool</td>\n    </tr>\n    <tr>\n      <th>23</th>\n      <td>2020-12-27</td>\n      <td>16:30</td>\n      <td>Premier League</td>\n      <td>Matchweek 15</td>\n      <td>Sun</td>\n      <td>Home</td>\n      <td>D</td>\n      <td>1.0</td>\n      <td>1.0</td>\n      <td>West Brom</td>\n      <td>...</td>\n      <td>Match Report</td>\n      <td>NaN</td>\n      <td>17.0</td>\n      <td>2.0</td>\n      <td>17.8</td>\n      <td>2.0</td>\n      <td>0.0</td>\n      <td>0.0</td>\n      <td>2021</td>\n      <td>Liverpool</td>\n    </tr>\n    <tr>\n      <th>24</th>\n      <td>2020-12-30</td>\n      <td>20:00</td>\n      <td>Premier League</td>\n      <td>Matchweek 16</td>\n      <td>Wed</td>\n      <td>Away</td>\n      <td>D</td>\n      <td>0.0</td>\n      <td>0.0</td>\n      <td>Newcastle Utd</td>\n      <td>...</td>\n      <td>Match Report</td>\n      <td>NaN</td>\n      <td>11.0</td>\n      <td>4.0</td>\n      <td>16.7</td>\n      <td>0.0</td>\n      <td>0.0</td>\n      <td>0.0</td>\n      <td>2021</td>\n      <td>Liverpool</td>\n    </tr>\n    <tr>\n      <th>25</th>\n      <td>2021-01-04</td>\n      <td>20:00</td>\n      <td>Premier League</td>\n      <td>Matchweek 17</td>\n      <td>Mon</td>\n      <td>Away</td>\n      <td>L</td>\n      <td>0.0</td>\n      <td>1.0</td>\n      <td>Southampton</td>\n      <td>...</td>\n      <td>Match Report</td>\n      <td>NaN</td>\n      <td>17.0</td>\n      <td>1.0</td>\n      <td>14.3</td>\n      <td>0.0</td>\n      <td>0.0</td>\n      <td>0.0</td>\n      <td>2021</td>\n      <td>Liverpool</td>\n    </tr>\n    <tr>\n      <th>27</th>\n      <td>2021-01-17</td>\n      <td>16:30</td>\n      <td>Premier League</td>\n      <td>Matchweek 19</td>\n      <td>Sun</td>\n      <td>Home</td>\n      <td>D</td>\n      <td>0.0</td>\n      <td>0.0</td>\n      <td>Manchester Utd</td>\n      <td>...</td>\n      <td>Match Report</td>\n      <td>NaN</td>\n      <td>17.0</td>\n      <td>3.0</td>\n      <td>17.1</td>\n      <td>0.0</td>\n      <td>0.0</td>\n      <td>0.0</td>\n      <td>2021</td>\n      <td>Liverpool</td>\n    </tr>\n    <tr>\n      <th>28</th>\n      <td>2021-01-21</td>\n      <td>20:00</td>\n      <td>Premier League</td>\n      <td>Matchweek 18</td>\n      <td>Thu</td>\n      <td>Home</td>\n      <td>L</td>\n      <td>0.0</td>\n      <td>1.0</td>\n      <td>Burnley</td>\n      <td>...</td>\n      <td>Match Report</td>\n      <td>NaN</td>\n      <td>27.0</td>\n      <td>6.0</td>\n      <td>17.3</td>\n      <td>0.0</td>\n      <td>0.0</td>\n      <td>0.0</td>\n      <td>2021</td>\n      <td>Liverpool</td>\n    </tr>\n    <tr>\n      <th>30</th>\n      <td>2021-01-28</td>\n      <td>20:00</td>\n      <td>Premier League</td>\n      <td>Matchweek 20</td>\n      <td>Thu</td>\n      <td>Away</td>\n      <td>W</td>\n      <td>3.0</td>\n      <td>1.0</td>\n      <td>Tottenham</td>\n      <td>...</td>\n      <td>Match Report</td>\n      <td>NaN</td>\n      <td>14.0</td>\n      <td>7.0</td>\n      <td>14.7</td>\n      <td>0.0</td>\n      <td>0.0</td>\n      <td>0.0</td>\n      <td>2021</td>\n      <td>Liverpool</td>\n    </tr>\n    <tr>\n      <th>31</th>\n      <td>2021-01-31</td>\n      <td>16:30</td>\n      <td>Premier League</td>\n      <td>Matchweek 21</td>\n      <td>Sun</td>\n      <td>Away</td>\n      <td>W</td>\n      <td>3.0</td>\n      <td>1.0</td>\n      <td>West Ham</td>\n      <td>...</td>\n      <td>Match Report</td>\n      <td>NaN</td>\n      <td>14.0</td>\n      <td>5.0</td>\n      <td>15.3</td>\n      <td>0.0</td>\n      <td>0.0</td>\n      <td>0.0</td>\n      <td>2021</td>\n      <td>Liverpool</td>\n    </tr>\n    <tr>\n      <th>32</th>\n      <td>2021-02-03</td>\n      <td>20:15</td>\n      <td>Premier League</td>\n      <td>Matchweek 22</td>\n      <td>Wed</td>\n      <td>Home</td>\n      <td>L</td>\n      <td>0.0</td>\n      <td>1.0</td>\n      <td>Brighton</td>\n      <td>...</td>\n      <td>Match Report</td>\n      <td>NaN</td>\n      <td>11.0</td>\n      <td>0.0</td>\n      <td>19.9</td>\n      <td>0.0</td>\n      <td>0.0</td>\n      <td>0.0</td>\n      <td>2021</td>\n      <td>Liverpool</td>\n    </tr>\n    <tr>\n      <th>33</th>\n      <td>2021-02-07</td>\n      <td>16:30</td>\n      <td>Premier League</td>\n      <td>Matchweek 23</td>\n      <td>Sun</td>\n      <td>Home</td>\n      <td>L</td>\n      <td>1.0</td>\n      <td>4.0</td>\n      <td>Manchester City</td>\n      <td>...</td>\n      <td>Match Report</td>\n      <td>NaN</td>\n      <td>7.0</td>\n      <td>2.0</td>\n      <td>17.9</td>\n      <td>1.0</td>\n      <td>1.0</td>\n      <td>1.0</td>\n      <td>2021</td>\n      <td>Liverpool</td>\n    </tr>\n    <tr>\n      <th>34</th>\n      <td>2021-02-13</td>\n      <td>12:30</td>\n      <td>Premier League</td>\n      <td>Matchweek 24</td>\n      <td>Sat</td>\n      <td>Away</td>\n      <td>L</td>\n      <td>1.0</td>\n      <td>3.0</td>\n      <td>Leicester City</td>\n      <td>...</td>\n      <td>Match Report</td>\n      <td>NaN</td>\n      <td>15.0</td>\n      <td>4.0</td>\n      <td>15.4</td>\n      <td>2.0</td>\n      <td>0.0</td>\n      <td>0.0</td>\n      <td>2021</td>\n      <td>Liverpool</td>\n    </tr>\n    <tr>\n      <th>36</th>\n      <td>2021-02-20</td>\n      <td>17:30</td>\n      <td>Premier League</td>\n      <td>Matchweek 25</td>\n      <td>Sat</td>\n      <td>Home</td>\n      <td>L</td>\n      <td>0.0</td>\n      <td>2.0</td>\n      <td>Everton</td>\n      <td>...</td>\n      <td>Match Report</td>\n      <td>NaN</td>\n      <td>16.0</td>\n      <td>6.0</td>\n      <td>15.9</td>\n      <td>1.0</td>\n      <td>0.0</td>\n      <td>0.0</td>\n      <td>2021</td>\n      <td>Liverpool</td>\n    </tr>\n    <tr>\n      <th>37</th>\n      <td>2021-02-28</td>\n      <td>19:15</td>\n      <td>Premier League</td>\n      <td>Matchweek 26</td>\n      <td>Sun</td>\n      <td>Away</td>\n      <td>W</td>\n      <td>2.0</td>\n      <td>0.0</td>\n      <td>Sheffield Utd</td>\n      <td>...</td>\n      <td>Match Report</td>\n      <td>NaN</td>\n      <td>15.0</td>\n      <td>8.0</td>\n      <td>14.2</td>\n      <td>0.0</td>\n      <td>0.0</td>\n      <td>0.0</td>\n      <td>2021</td>\n      <td>Liverpool</td>\n    </tr>\n    <tr>\n      <th>38</th>\n      <td>2021-03-04</td>\n      <td>20:15</td>\n      <td>Premier League</td>\n      <td>Matchweek 29</td>\n      <td>Thu</td>\n      <td>Home</td>\n      <td>L</td>\n      <td>0.0</td>\n      <td>1.0</td>\n      <td>Chelsea</td>\n      <td>...</td>\n      <td>Match Report</td>\n      <td>NaN</td>\n      <td>7.0</td>\n      <td>1.0</td>\n      <td>18.4</td>\n      <td>0.0</td>\n      <td>0.0</td>\n      <td>0.0</td>\n      <td>2021</td>\n      <td>Liverpool</td>\n    </tr>\n    <tr>\n      <th>39</th>\n      <td>2021-03-07</td>\n      <td>14:00</td>\n      <td>Premier League</td>\n      <td>Matchweek 27</td>\n      <td>Sun</td>\n      <td>Home</td>\n      <td>L</td>\n      <td>0.0</td>\n      <td>1.0</td>\n      <td>Fulham</td>\n      <td>...</td>\n      <td>Match Report</td>\n      <td>NaN</td>\n      <td>16.0</td>\n      <td>3.0</td>\n      <td>17.0</td>\n      <td>1.0</td>\n      <td>0.0</td>\n      <td>0.0</td>\n      <td>2021</td>\n      <td>Liverpool</td>\n    </tr>\n    <tr>\n      <th>41</th>\n      <td>2021-03-15</td>\n      <td>20:00</td>\n      <td>Premier League</td>\n      <td>Matchweek 28</td>\n      <td>Mon</td>\n      <td>Away</td>\n      <td>W</td>\n      <td>1.0</td>\n      <td>0.0</td>\n      <td>Wolves</td>\n      <td>...</td>\n      <td>Match Report</td>\n      <td>NaN</td>\n      <td>12.0</td>\n      <td>4.0</td>\n      <td>15.9</td>\n      <td>0.0</td>\n      <td>0.0</td>\n      <td>0.0</td>\n      <td>2021</td>\n      <td>Liverpool</td>\n    </tr>\n    <tr>\n      <th>42</th>\n      <td>2021-04-03</td>\n      <td>20:00</td>\n      <td>Premier League</td>\n      <td>Matchweek 30</td>\n      <td>Sat</td>\n      <td>Away</td>\n      <td>W</td>\n      <td>3.0</td>\n      <td>0.0</td>\n      <td>Arsenal</td>\n      <td>...</td>\n      <td>Match Report</td>\n      <td>NaN</td>\n      <td>16.0</td>\n      <td>7.0</td>\n      <td>17.0</td>\n      <td>0.0</td>\n      <td>0.0</td>\n      <td>0.0</td>\n      <td>2021</td>\n      <td>Liverpool</td>\n    </tr>\n    <tr>\n      <th>44</th>\n      <td>2021-04-10</td>\n      <td>15:00</td>\n      <td>Premier League</td>\n      <td>Matchweek 31</td>\n      <td>Sat</td>\n      <td>Home</td>\n      <td>W</td>\n      <td>2.0</td>\n      <td>1.0</td>\n      <td>Aston Villa</td>\n      <td>...</td>\n      <td>Match Report</td>\n      <td>NaN</td>\n      <td>23.0</td>\n      <td>8.0</td>\n      <td>16.7</td>\n      <td>1.0</td>\n      <td>0.0</td>\n      <td>0.0</td>\n      <td>2021</td>\n      <td>Liverpool</td>\n    </tr>\n    <tr>\n      <th>46</th>\n      <td>2021-04-19</td>\n      <td>20:00</td>\n      <td>Premier League</td>\n      <td>Matchweek 32</td>\n      <td>Mon</td>\n      <td>Away</td>\n      <td>D</td>\n      <td>1.0</td>\n      <td>1.0</td>\n      <td>Leeds United</td>\n      <td>...</td>\n      <td>Match Report</td>\n      <td>NaN</td>\n      <td>17.0</td>\n      <td>7.0</td>\n      <td>15.7</td>\n      <td>0.0</td>\n      <td>0.0</td>\n      <td>0.0</td>\n      <td>2021</td>\n      <td>Liverpool</td>\n    </tr>\n    <tr>\n      <th>47</th>\n      <td>2021-04-24</td>\n      <td>12:30</td>\n      <td>Premier League</td>\n      <td>Matchweek 33</td>\n      <td>Sat</td>\n      <td>Home</td>\n      <td>D</td>\n      <td>1.0</td>\n      <td>1.0</td>\n      <td>Newcastle Utd</td>\n      <td>...</td>\n      <td>Match Report</td>\n      <td>NaN</td>\n      <td>21.0</td>\n      <td>9.0</td>\n      <td>17.0</td>\n      <td>1.0</td>\n      <td>0.0</td>\n      <td>0.0</td>\n      <td>2021</td>\n      <td>Liverpool</td>\n    </tr>\n    <tr>\n      <th>48</th>\n      <td>2021-05-08</td>\n      <td>20:15</td>\n      <td>Premier League</td>\n      <td>Matchweek 35</td>\n      <td>Sat</td>\n      <td>Home</td>\n      <td>W</td>\n      <td>2.0</td>\n      <td>0.0</td>\n      <td>Southampton</td>\n      <td>...</td>\n      <td>Match Report</td>\n      <td>NaN</td>\n      <td>14.0</td>\n      <td>6.0</td>\n      <td>12.4</td>\n      <td>0.0</td>\n      <td>0.0</td>\n      <td>0.0</td>\n      <td>2021</td>\n      <td>Liverpool</td>\n    </tr>\n    <tr>\n      <th>49</th>\n      <td>2021-05-13</td>\n      <td>20:15</td>\n      <td>Premier League</td>\n      <td>Matchweek 34</td>\n      <td>Thu</td>\n      <td>Away</td>\n      <td>W</td>\n      <td>4.0</td>\n      <td>2.0</td>\n      <td>Manchester Utd</td>\n      <td>...</td>\n      <td>Match Report</td>\n      <td>NaN</td>\n      <td>17.0</td>\n      <td>8.0</td>\n      <td>14.9</td>\n      <td>0.0</td>\n      <td>0.0</td>\n      <td>0.0</td>\n      <td>2021</td>\n      <td>Liverpool</td>\n    </tr>\n    <tr>\n      <th>50</th>\n      <td>2021-05-16</td>\n      <td>16:30</td>\n      <td>Premier League</td>\n      <td>Matchweek 36</td>\n      <td>Sun</td>\n      <td>Away</td>\n      <td>W</td>\n      <td>2.0</td>\n      <td>1.0</td>\n      <td>West Brom</td>\n      <td>...</td>\n      <td>Match Report</td>\n      <td>NaN</td>\n      <td>26.0</td>\n      <td>6.0</td>\n      <td>16.9</td>\n      <td>1.0</td>\n      <td>0.0</td>\n      <td>0.0</td>\n      <td>2021</td>\n      <td>Liverpool</td>\n    </tr>\n    <tr>\n      <th>51</th>\n      <td>2021-05-19</td>\n      <td>20:15</td>\n      <td>Premier League</td>\n      <td>Matchweek 37</td>\n      <td>Wed</td>\n      <td>Away</td>\n      <td>W</td>\n      <td>3.0</td>\n      <td>0.0</td>\n      <td>Burnley</td>\n      <td>...</td>\n      <td>Match Report</td>\n      <td>NaN</td>\n      <td>20.0</td>\n      <td>3.0</td>\n      <td>15.5</td>\n      <td>1.0</td>\n      <td>0.0</td>\n      <td>0.0</td>\n      <td>2021</td>\n      <td>Liverpool</td>\n    </tr>\n    <tr>\n      <th>52</th>\n      <td>2021-05-23</td>\n      <td>16:00</td>\n      <td>Premier League</td>\n      <td>Matchweek 38</td>\n      <td>Sun</td>\n      <td>Home</td>\n      <td>W</td>\n      <td>2.0</td>\n      <td>0.0</td>\n      <td>Crystal Palace</td>\n      <td>...</td>\n      <td>Match Report</td>\n      <td>NaN</td>\n      <td>19.0</td>\n      <td>5.0</td>\n      <td>14.2</td>\n      <td>1.0</td>\n      <td>0.0</td>\n      <td>0.0</td>\n      <td>2021</td>\n      <td>Liverpool</td>\n    </tr>\n  </tbody>\n</table>\n<p>38 rows × 27 columns</p>\n</div>"
     },
     "execution_count": 9,
     "metadata": {},
     "output_type": "execute_result"
    }
   ],
   "source": [
    "matches[matches[\"team\"] == \"Liverpool\"].sort_values(\"date\")"
   ],
   "metadata": {
    "collapsed": false,
    "ExecuteTime": {
     "end_time": "2024-04-11T12:38:44.432772Z",
     "start_time": "2024-04-11T12:38:44.101972Z"
    }
   },
   "id": "be2ef2b77cc53354",
   "execution_count": 9
  },
  {
   "cell_type": "code",
   "outputs": [
    {
     "data": {
      "text/plain": "round\nMatchweek 1     39\nMatchweek 16    39\nMatchweek 34    39\nMatchweek 32    39\nMatchweek 31    39\nMatchweek 29    39\nMatchweek 28    39\nMatchweek 26    39\nMatchweek 25    39\nMatchweek 24    39\nMatchweek 23    39\nMatchweek 2     39\nMatchweek 19    39\nMatchweek 17    39\nMatchweek 20    39\nMatchweek 15    39\nMatchweek 5     39\nMatchweek 3     39\nMatchweek 13    39\nMatchweek 12    39\nMatchweek 4     39\nMatchweek 11    39\nMatchweek 10    39\nMatchweek 9     39\nMatchweek 8     39\nMatchweek 14    39\nMatchweek 7     39\nMatchweek 6     39\nMatchweek 30    37\nMatchweek 27    37\nMatchweek 22    37\nMatchweek 21    37\nMatchweek 18    37\nMatchweek 33    32\nMatchweek 35    20\nMatchweek 36    20\nMatchweek 37    20\nMatchweek 38    20\nName: count, dtype: int64"
     },
     "execution_count": 10,
     "metadata": {},
     "output_type": "execute_result"
    }
   ],
   "source": [
    "matches[\"round\"].value_counts()"
   ],
   "metadata": {
    "collapsed": false,
    "ExecuteTime": {
     "end_time": "2024-04-11T12:39:02.724146Z",
     "start_time": "2024-04-11T12:39:02.720437Z"
    }
   },
   "id": "d9110c00d5587d9f",
   "execution_count": 10
  },
  {
   "cell_type": "code",
   "outputs": [
    {
     "data": {
      "text/plain": "date             object\ntime             object\ncomp             object\nround            object\nday              object\nvenue            object\nresult           object\ngf              float64\nga              float64\nopponent         object\nxg              float64\nxga             float64\nposs            float64\nattendance      float64\ncaptain          object\nformation        object\nreferee          object\nmatch report     object\nnotes           float64\nsh              float64\nsot             float64\ndist            float64\nfk              float64\npk              float64\npkatt           float64\nseason            int64\nteam             object\ndtype: object"
     },
     "execution_count": 11,
     "metadata": {},
     "output_type": "execute_result"
    }
   ],
   "source": [
    "matches.dtypes"
   ],
   "metadata": {
    "collapsed": false,
    "ExecuteTime": {
     "end_time": "2024-04-11T12:39:11.095974Z",
     "start_time": "2024-04-11T12:39:11.092891Z"
    }
   },
   "id": "7df189bda2096d7c",
   "execution_count": 11
  },
  {
   "cell_type": "code",
   "outputs": [],
   "source": [
    "del matches[\"comp\"]"
   ],
   "metadata": {
    "collapsed": false,
    "ExecuteTime": {
     "end_time": "2024-04-11T12:39:19.895917Z",
     "start_time": "2024-04-11T12:39:19.885891Z"
    }
   },
   "id": "8b833cb3039230a0",
   "execution_count": 12
  },
  {
   "cell_type": "code",
   "outputs": [],
   "source": [
    "del matches[\"notes\"]"
   ],
   "metadata": {
    "collapsed": false,
    "ExecuteTime": {
     "end_time": "2024-04-11T12:39:25.861393Z",
     "start_time": "2024-04-11T12:39:25.857143Z"
    }
   },
   "id": "c2afe400aab15562",
   "execution_count": 13
  },
  {
   "cell_type": "code",
   "outputs": [],
   "source": [
    "matches[\"date\"] = pd.to_datetime(matches[\"date\"])"
   ],
   "metadata": {
    "collapsed": false,
    "ExecuteTime": {
     "end_time": "2024-04-11T12:39:33.602664Z",
     "start_time": "2024-04-11T12:39:33.601565Z"
    }
   },
   "id": "5dc1d8f0e46094ff",
   "execution_count": 14
  },
  {
   "cell_type": "code",
   "outputs": [],
   "source": [
    "matches[\"target\"] = (matches[\"result\"] == \"W\").astype(\"int\")"
   ],
   "metadata": {
    "collapsed": false,
    "ExecuteTime": {
     "end_time": "2024-04-11T12:39:40.342226Z",
     "start_time": "2024-04-11T12:39:40.336429Z"
    }
   },
   "id": "f0606849eb753874",
   "execution_count": 15
  },
  {
   "cell_type": "code",
   "outputs": [
    {
     "data": {
      "text/plain": "         date   time         round  day venue result   gf   ga  \\\n1  2021-08-15  16:30   Matchweek 1  Sun  Away      L  0.0  1.0   \n2  2021-08-21  15:00   Matchweek 2  Sat  Home      W  5.0  0.0   \n3  2021-08-28  12:30   Matchweek 3  Sat  Home      W  5.0  0.0   \n4  2021-09-11  15:00   Matchweek 4  Sat  Away      W  1.0  0.0   \n6  2021-09-18  15:00   Matchweek 5  Sat  Home      D  0.0  0.0   \n..        ...    ...           ...  ...   ...    ...  ...  ...   \n38 2021-05-02  19:15  Matchweek 34  Sun  Away      L  0.0  4.0   \n39 2021-05-08  15:00  Matchweek 35  Sat  Home      L  0.0  2.0   \n40 2021-05-16  19:00  Matchweek 36  Sun  Away      W  1.0  0.0   \n41 2021-05-19  18:00  Matchweek 37  Wed  Away      L  0.0  1.0   \n42 2021-05-23  16:00  Matchweek 38  Sun  Home      W  1.0  0.0   \n\n          opponent   xg  ...  match report    sh   sot  dist   fk   pk pkatt  \\\n1        Tottenham  1.9  ...  Match Report  18.0   4.0  16.9  1.0  0.0   0.0   \n2     Norwich City  2.7  ...  Match Report  16.0   4.0  17.3  1.0  0.0   0.0   \n3          Arsenal  3.8  ...  Match Report  25.0  10.0  14.3  0.0  0.0   0.0   \n4   Leicester City  2.9  ...  Match Report  25.0   8.0  14.0  0.0  0.0   0.0   \n6      Southampton  1.1  ...  Match Report  16.0   1.0  15.7  1.0  0.0   0.0   \n..             ...  ...  ...           ...   ...   ...   ...  ...  ...   ...   \n38       Tottenham  0.5  ...  Match Report   8.0   1.0  17.4  0.0  0.0   0.0   \n39  Crystal Palace  0.7  ...  Match Report   7.0   0.0  11.4  1.0  0.0   0.0   \n40         Everton  1.6  ...  Match Report  10.0   3.0  17.0  0.0  0.0   0.0   \n41   Newcastle Utd  0.8  ...  Match Report  11.0   1.0  16.0  1.0  0.0   0.0   \n42         Burnley  0.6  ...  Match Report  12.0   3.0  17.0  0.0  0.0   0.0   \n\n    season              team  target  \n1     2022   Manchester City       0  \n2     2022   Manchester City       1  \n3     2022   Manchester City       1  \n4     2022   Manchester City       1  \n6     2022   Manchester City       0  \n..     ...               ...     ...  \n38    2021  Sheffield United       0  \n39    2021  Sheffield United       0  \n40    2021  Sheffield United       1  \n41    2021  Sheffield United       0  \n42    2021  Sheffield United       1  \n\n[1389 rows x 26 columns]",
      "text/html": "<div>\n<style scoped>\n    .dataframe tbody tr th:only-of-type {\n        vertical-align: middle;\n    }\n\n    .dataframe tbody tr th {\n        vertical-align: top;\n    }\n\n    .dataframe thead th {\n        text-align: right;\n    }\n</style>\n<table border=\"1\" class=\"dataframe\">\n  <thead>\n    <tr style=\"text-align: right;\">\n      <th></th>\n      <th>date</th>\n      <th>time</th>\n      <th>round</th>\n      <th>day</th>\n      <th>venue</th>\n      <th>result</th>\n      <th>gf</th>\n      <th>ga</th>\n      <th>opponent</th>\n      <th>xg</th>\n      <th>...</th>\n      <th>match report</th>\n      <th>sh</th>\n      <th>sot</th>\n      <th>dist</th>\n      <th>fk</th>\n      <th>pk</th>\n      <th>pkatt</th>\n      <th>season</th>\n      <th>team</th>\n      <th>target</th>\n    </tr>\n  </thead>\n  <tbody>\n    <tr>\n      <th>1</th>\n      <td>2021-08-15</td>\n      <td>16:30</td>\n      <td>Matchweek 1</td>\n      <td>Sun</td>\n      <td>Away</td>\n      <td>L</td>\n      <td>0.0</td>\n      <td>1.0</td>\n      <td>Tottenham</td>\n      <td>1.9</td>\n      <td>...</td>\n      <td>Match Report</td>\n      <td>18.0</td>\n      <td>4.0</td>\n      <td>16.9</td>\n      <td>1.0</td>\n      <td>0.0</td>\n      <td>0.0</td>\n      <td>2022</td>\n      <td>Manchester City</td>\n      <td>0</td>\n    </tr>\n    <tr>\n      <th>2</th>\n      <td>2021-08-21</td>\n      <td>15:00</td>\n      <td>Matchweek 2</td>\n      <td>Sat</td>\n      <td>Home</td>\n      <td>W</td>\n      <td>5.0</td>\n      <td>0.0</td>\n      <td>Norwich City</td>\n      <td>2.7</td>\n      <td>...</td>\n      <td>Match Report</td>\n      <td>16.0</td>\n      <td>4.0</td>\n      <td>17.3</td>\n      <td>1.0</td>\n      <td>0.0</td>\n      <td>0.0</td>\n      <td>2022</td>\n      <td>Manchester City</td>\n      <td>1</td>\n    </tr>\n    <tr>\n      <th>3</th>\n      <td>2021-08-28</td>\n      <td>12:30</td>\n      <td>Matchweek 3</td>\n      <td>Sat</td>\n      <td>Home</td>\n      <td>W</td>\n      <td>5.0</td>\n      <td>0.0</td>\n      <td>Arsenal</td>\n      <td>3.8</td>\n      <td>...</td>\n      <td>Match Report</td>\n      <td>25.0</td>\n      <td>10.0</td>\n      <td>14.3</td>\n      <td>0.0</td>\n      <td>0.0</td>\n      <td>0.0</td>\n      <td>2022</td>\n      <td>Manchester City</td>\n      <td>1</td>\n    </tr>\n    <tr>\n      <th>4</th>\n      <td>2021-09-11</td>\n      <td>15:00</td>\n      <td>Matchweek 4</td>\n      <td>Sat</td>\n      <td>Away</td>\n      <td>W</td>\n      <td>1.0</td>\n      <td>0.0</td>\n      <td>Leicester City</td>\n      <td>2.9</td>\n      <td>...</td>\n      <td>Match Report</td>\n      <td>25.0</td>\n      <td>8.0</td>\n      <td>14.0</td>\n      <td>0.0</td>\n      <td>0.0</td>\n      <td>0.0</td>\n      <td>2022</td>\n      <td>Manchester City</td>\n      <td>1</td>\n    </tr>\n    <tr>\n      <th>6</th>\n      <td>2021-09-18</td>\n      <td>15:00</td>\n      <td>Matchweek 5</td>\n      <td>Sat</td>\n      <td>Home</td>\n      <td>D</td>\n      <td>0.0</td>\n      <td>0.0</td>\n      <td>Southampton</td>\n      <td>1.1</td>\n      <td>...</td>\n      <td>Match Report</td>\n      <td>16.0</td>\n      <td>1.0</td>\n      <td>15.7</td>\n      <td>1.0</td>\n      <td>0.0</td>\n      <td>0.0</td>\n      <td>2022</td>\n      <td>Manchester City</td>\n      <td>0</td>\n    </tr>\n    <tr>\n      <th>...</th>\n      <td>...</td>\n      <td>...</td>\n      <td>...</td>\n      <td>...</td>\n      <td>...</td>\n      <td>...</td>\n      <td>...</td>\n      <td>...</td>\n      <td>...</td>\n      <td>...</td>\n      <td>...</td>\n      <td>...</td>\n      <td>...</td>\n      <td>...</td>\n      <td>...</td>\n      <td>...</td>\n      <td>...</td>\n      <td>...</td>\n      <td>...</td>\n      <td>...</td>\n      <td>...</td>\n    </tr>\n    <tr>\n      <th>38</th>\n      <td>2021-05-02</td>\n      <td>19:15</td>\n      <td>Matchweek 34</td>\n      <td>Sun</td>\n      <td>Away</td>\n      <td>L</td>\n      <td>0.0</td>\n      <td>4.0</td>\n      <td>Tottenham</td>\n      <td>0.5</td>\n      <td>...</td>\n      <td>Match Report</td>\n      <td>8.0</td>\n      <td>1.0</td>\n      <td>17.4</td>\n      <td>0.0</td>\n      <td>0.0</td>\n      <td>0.0</td>\n      <td>2021</td>\n      <td>Sheffield United</td>\n      <td>0</td>\n    </tr>\n    <tr>\n      <th>39</th>\n      <td>2021-05-08</td>\n      <td>15:00</td>\n      <td>Matchweek 35</td>\n      <td>Sat</td>\n      <td>Home</td>\n      <td>L</td>\n      <td>0.0</td>\n      <td>2.0</td>\n      <td>Crystal Palace</td>\n      <td>0.7</td>\n      <td>...</td>\n      <td>Match Report</td>\n      <td>7.0</td>\n      <td>0.0</td>\n      <td>11.4</td>\n      <td>1.0</td>\n      <td>0.0</td>\n      <td>0.0</td>\n      <td>2021</td>\n      <td>Sheffield United</td>\n      <td>0</td>\n    </tr>\n    <tr>\n      <th>40</th>\n      <td>2021-05-16</td>\n      <td>19:00</td>\n      <td>Matchweek 36</td>\n      <td>Sun</td>\n      <td>Away</td>\n      <td>W</td>\n      <td>1.0</td>\n      <td>0.0</td>\n      <td>Everton</td>\n      <td>1.6</td>\n      <td>...</td>\n      <td>Match Report</td>\n      <td>10.0</td>\n      <td>3.0</td>\n      <td>17.0</td>\n      <td>0.0</td>\n      <td>0.0</td>\n      <td>0.0</td>\n      <td>2021</td>\n      <td>Sheffield United</td>\n      <td>1</td>\n    </tr>\n    <tr>\n      <th>41</th>\n      <td>2021-05-19</td>\n      <td>18:00</td>\n      <td>Matchweek 37</td>\n      <td>Wed</td>\n      <td>Away</td>\n      <td>L</td>\n      <td>0.0</td>\n      <td>1.0</td>\n      <td>Newcastle Utd</td>\n      <td>0.8</td>\n      <td>...</td>\n      <td>Match Report</td>\n      <td>11.0</td>\n      <td>1.0</td>\n      <td>16.0</td>\n      <td>1.0</td>\n      <td>0.0</td>\n      <td>0.0</td>\n      <td>2021</td>\n      <td>Sheffield United</td>\n      <td>0</td>\n    </tr>\n    <tr>\n      <th>42</th>\n      <td>2021-05-23</td>\n      <td>16:00</td>\n      <td>Matchweek 38</td>\n      <td>Sun</td>\n      <td>Home</td>\n      <td>W</td>\n      <td>1.0</td>\n      <td>0.0</td>\n      <td>Burnley</td>\n      <td>0.6</td>\n      <td>...</td>\n      <td>Match Report</td>\n      <td>12.0</td>\n      <td>3.0</td>\n      <td>17.0</td>\n      <td>0.0</td>\n      <td>0.0</td>\n      <td>0.0</td>\n      <td>2021</td>\n      <td>Sheffield United</td>\n      <td>1</td>\n    </tr>\n  </tbody>\n</table>\n<p>1389 rows × 26 columns</p>\n</div>"
     },
     "execution_count": 16,
     "metadata": {},
     "output_type": "execute_result"
    }
   ],
   "source": [
    "matches"
   ],
   "metadata": {
    "collapsed": false,
    "ExecuteTime": {
     "end_time": "2024-04-11T12:39:46.403811Z",
     "start_time": "2024-04-11T12:39:46.391855Z"
    }
   },
   "id": "5b4776eb2c4dbadd",
   "execution_count": 16
  },
  {
   "cell_type": "code",
   "outputs": [],
   "source": [],
   "metadata": {
    "collapsed": false,
    "ExecuteTime": {
     "end_time": "2024-04-11T12:47:17.815068Z",
     "start_time": "2024-04-11T12:47:17.814193Z"
    }
   },
   "id": "231786bf85bcf8cd",
   "execution_count": 16
  },
  {
   "cell_type": "code",
   "outputs": [],
   "source": [
    "matches[\"venue_code\"] = matches[\"venue\"].astype(\"category\").cat.codes"
   ],
   "metadata": {
    "collapsed": false,
    "ExecuteTime": {
     "end_time": "2024-04-11T12:47:19.810119Z",
     "start_time": "2024-04-11T12:47:19.800229Z"
    }
   },
   "id": "8985f6cc8c215f77",
   "execution_count": 17
  },
  {
   "cell_type": "code",
   "outputs": [],
   "source": [
    "matches[\"opp_code\"] = matches[\"opponent\"].astype(\"category\").cat.codes"
   ],
   "metadata": {
    "collapsed": false,
    "ExecuteTime": {
     "end_time": "2024-04-11T12:47:27.074660Z",
     "start_time": "2024-04-11T12:47:27.073618Z"
    }
   },
   "id": "46d1bbee6e03342",
   "execution_count": 18
  },
  {
   "cell_type": "code",
   "outputs": [],
   "source": [
    "matches[\"hour\"] = matches[\"time\"].str.replace(\":.+\", \"\", regex=True).astype(\"int\")"
   ],
   "metadata": {
    "collapsed": false,
    "ExecuteTime": {
     "end_time": "2024-04-11T12:47:33.200931Z",
     "start_time": "2024-04-11T12:47:33.197228Z"
    }
   },
   "id": "fb7880ce29cfbca9",
   "execution_count": 19
  },
  {
   "cell_type": "code",
   "outputs": [],
   "source": [
    "matches[\"day_code\"] = matches[\"date\"].dt.dayofweek"
   ],
   "metadata": {
    "collapsed": false,
    "ExecuteTime": {
     "end_time": "2024-04-11T12:47:39.527849Z",
     "start_time": "2024-04-11T12:47:39.508101Z"
    }
   },
   "id": "3cf14d0f491a22ce",
   "execution_count": 20
  },
  {
   "cell_type": "code",
   "outputs": [
    {
     "data": {
      "text/plain": "         date   time         round  day venue result   gf   ga  \\\n1  2021-08-15  16:30   Matchweek 1  Sun  Away      L  0.0  1.0   \n2  2021-08-21  15:00   Matchweek 2  Sat  Home      W  5.0  0.0   \n3  2021-08-28  12:30   Matchweek 3  Sat  Home      W  5.0  0.0   \n4  2021-09-11  15:00   Matchweek 4  Sat  Away      W  1.0  0.0   \n6  2021-09-18  15:00   Matchweek 5  Sat  Home      D  0.0  0.0   \n..        ...    ...           ...  ...   ...    ...  ...  ...   \n38 2021-05-02  19:15  Matchweek 34  Sun  Away      L  0.0  4.0   \n39 2021-05-08  15:00  Matchweek 35  Sat  Home      L  0.0  2.0   \n40 2021-05-16  19:00  Matchweek 36  Sun  Away      W  1.0  0.0   \n41 2021-05-19  18:00  Matchweek 37  Wed  Away      L  0.0  1.0   \n42 2021-05-23  16:00  Matchweek 38  Sun  Home      W  1.0  0.0   \n\n          opponent   xg  ...   fk   pk  pkatt season              team target  \\\n1        Tottenham  1.9  ...  1.0  0.0    0.0   2022   Manchester City      0   \n2     Norwich City  2.7  ...  1.0  0.0    0.0   2022   Manchester City      1   \n3          Arsenal  3.8  ...  0.0  0.0    0.0   2022   Manchester City      1   \n4   Leicester City  2.9  ...  0.0  0.0    0.0   2022   Manchester City      1   \n6      Southampton  1.1  ...  1.0  0.0    0.0   2022   Manchester City      0   \n..             ...  ...  ...  ...  ...    ...    ...               ...    ...   \n38       Tottenham  0.5  ...  0.0  0.0    0.0   2021  Sheffield United      0   \n39  Crystal Palace  0.7  ...  1.0  0.0    0.0   2021  Sheffield United      0   \n40         Everton  1.6  ...  0.0  0.0    0.0   2021  Sheffield United      1   \n41   Newcastle Utd  0.8  ...  1.0  0.0    0.0   2021  Sheffield United      0   \n42         Burnley  0.6  ...  0.0  0.0    0.0   2021  Sheffield United      1   \n\n   venue_code  opp_code  hour  day_code  \n1           0        18    16         6  \n2           1        15    15         5  \n3           1         0    12         5  \n4           0        10    15         5  \n6           1        17    15         5  \n..        ...       ...   ...       ...  \n38          0        18    19         6  \n39          1         6    15         5  \n40          0         7    19         6  \n41          0        14    18         2  \n42          1         4    16         6  \n\n[1389 rows x 30 columns]",
      "text/html": "<div>\n<style scoped>\n    .dataframe tbody tr th:only-of-type {\n        vertical-align: middle;\n    }\n\n    .dataframe tbody tr th {\n        vertical-align: top;\n    }\n\n    .dataframe thead th {\n        text-align: right;\n    }\n</style>\n<table border=\"1\" class=\"dataframe\">\n  <thead>\n    <tr style=\"text-align: right;\">\n      <th></th>\n      <th>date</th>\n      <th>time</th>\n      <th>round</th>\n      <th>day</th>\n      <th>venue</th>\n      <th>result</th>\n      <th>gf</th>\n      <th>ga</th>\n      <th>opponent</th>\n      <th>xg</th>\n      <th>...</th>\n      <th>fk</th>\n      <th>pk</th>\n      <th>pkatt</th>\n      <th>season</th>\n      <th>team</th>\n      <th>target</th>\n      <th>venue_code</th>\n      <th>opp_code</th>\n      <th>hour</th>\n      <th>day_code</th>\n    </tr>\n  </thead>\n  <tbody>\n    <tr>\n      <th>1</th>\n      <td>2021-08-15</td>\n      <td>16:30</td>\n      <td>Matchweek 1</td>\n      <td>Sun</td>\n      <td>Away</td>\n      <td>L</td>\n      <td>0.0</td>\n      <td>1.0</td>\n      <td>Tottenham</td>\n      <td>1.9</td>\n      <td>...</td>\n      <td>1.0</td>\n      <td>0.0</td>\n      <td>0.0</td>\n      <td>2022</td>\n      <td>Manchester City</td>\n      <td>0</td>\n      <td>0</td>\n      <td>18</td>\n      <td>16</td>\n      <td>6</td>\n    </tr>\n    <tr>\n      <th>2</th>\n      <td>2021-08-21</td>\n      <td>15:00</td>\n      <td>Matchweek 2</td>\n      <td>Sat</td>\n      <td>Home</td>\n      <td>W</td>\n      <td>5.0</td>\n      <td>0.0</td>\n      <td>Norwich City</td>\n      <td>2.7</td>\n      <td>...</td>\n      <td>1.0</td>\n      <td>0.0</td>\n      <td>0.0</td>\n      <td>2022</td>\n      <td>Manchester City</td>\n      <td>1</td>\n      <td>1</td>\n      <td>15</td>\n      <td>15</td>\n      <td>5</td>\n    </tr>\n    <tr>\n      <th>3</th>\n      <td>2021-08-28</td>\n      <td>12:30</td>\n      <td>Matchweek 3</td>\n      <td>Sat</td>\n      <td>Home</td>\n      <td>W</td>\n      <td>5.0</td>\n      <td>0.0</td>\n      <td>Arsenal</td>\n      <td>3.8</td>\n      <td>...</td>\n      <td>0.0</td>\n      <td>0.0</td>\n      <td>0.0</td>\n      <td>2022</td>\n      <td>Manchester City</td>\n      <td>1</td>\n      <td>1</td>\n      <td>0</td>\n      <td>12</td>\n      <td>5</td>\n    </tr>\n    <tr>\n      <th>4</th>\n      <td>2021-09-11</td>\n      <td>15:00</td>\n      <td>Matchweek 4</td>\n      <td>Sat</td>\n      <td>Away</td>\n      <td>W</td>\n      <td>1.0</td>\n      <td>0.0</td>\n      <td>Leicester City</td>\n      <td>2.9</td>\n      <td>...</td>\n      <td>0.0</td>\n      <td>0.0</td>\n      <td>0.0</td>\n      <td>2022</td>\n      <td>Manchester City</td>\n      <td>1</td>\n      <td>0</td>\n      <td>10</td>\n      <td>15</td>\n      <td>5</td>\n    </tr>\n    <tr>\n      <th>6</th>\n      <td>2021-09-18</td>\n      <td>15:00</td>\n      <td>Matchweek 5</td>\n      <td>Sat</td>\n      <td>Home</td>\n      <td>D</td>\n      <td>0.0</td>\n      <td>0.0</td>\n      <td>Southampton</td>\n      <td>1.1</td>\n      <td>...</td>\n      <td>1.0</td>\n      <td>0.0</td>\n      <td>0.0</td>\n      <td>2022</td>\n      <td>Manchester City</td>\n      <td>0</td>\n      <td>1</td>\n      <td>17</td>\n      <td>15</td>\n      <td>5</td>\n    </tr>\n    <tr>\n      <th>...</th>\n      <td>...</td>\n      <td>...</td>\n      <td>...</td>\n      <td>...</td>\n      <td>...</td>\n      <td>...</td>\n      <td>...</td>\n      <td>...</td>\n      <td>...</td>\n      <td>...</td>\n      <td>...</td>\n      <td>...</td>\n      <td>...</td>\n      <td>...</td>\n      <td>...</td>\n      <td>...</td>\n      <td>...</td>\n      <td>...</td>\n      <td>...</td>\n      <td>...</td>\n      <td>...</td>\n    </tr>\n    <tr>\n      <th>38</th>\n      <td>2021-05-02</td>\n      <td>19:15</td>\n      <td>Matchweek 34</td>\n      <td>Sun</td>\n      <td>Away</td>\n      <td>L</td>\n      <td>0.0</td>\n      <td>4.0</td>\n      <td>Tottenham</td>\n      <td>0.5</td>\n      <td>...</td>\n      <td>0.0</td>\n      <td>0.0</td>\n      <td>0.0</td>\n      <td>2021</td>\n      <td>Sheffield United</td>\n      <td>0</td>\n      <td>0</td>\n      <td>18</td>\n      <td>19</td>\n      <td>6</td>\n    </tr>\n    <tr>\n      <th>39</th>\n      <td>2021-05-08</td>\n      <td>15:00</td>\n      <td>Matchweek 35</td>\n      <td>Sat</td>\n      <td>Home</td>\n      <td>L</td>\n      <td>0.0</td>\n      <td>2.0</td>\n      <td>Crystal Palace</td>\n      <td>0.7</td>\n      <td>...</td>\n      <td>1.0</td>\n      <td>0.0</td>\n      <td>0.0</td>\n      <td>2021</td>\n      <td>Sheffield United</td>\n      <td>0</td>\n      <td>1</td>\n      <td>6</td>\n      <td>15</td>\n      <td>5</td>\n    </tr>\n    <tr>\n      <th>40</th>\n      <td>2021-05-16</td>\n      <td>19:00</td>\n      <td>Matchweek 36</td>\n      <td>Sun</td>\n      <td>Away</td>\n      <td>W</td>\n      <td>1.0</td>\n      <td>0.0</td>\n      <td>Everton</td>\n      <td>1.6</td>\n      <td>...</td>\n      <td>0.0</td>\n      <td>0.0</td>\n      <td>0.0</td>\n      <td>2021</td>\n      <td>Sheffield United</td>\n      <td>1</td>\n      <td>0</td>\n      <td>7</td>\n      <td>19</td>\n      <td>6</td>\n    </tr>\n    <tr>\n      <th>41</th>\n      <td>2021-05-19</td>\n      <td>18:00</td>\n      <td>Matchweek 37</td>\n      <td>Wed</td>\n      <td>Away</td>\n      <td>L</td>\n      <td>0.0</td>\n      <td>1.0</td>\n      <td>Newcastle Utd</td>\n      <td>0.8</td>\n      <td>...</td>\n      <td>1.0</td>\n      <td>0.0</td>\n      <td>0.0</td>\n      <td>2021</td>\n      <td>Sheffield United</td>\n      <td>0</td>\n      <td>0</td>\n      <td>14</td>\n      <td>18</td>\n      <td>2</td>\n    </tr>\n    <tr>\n      <th>42</th>\n      <td>2021-05-23</td>\n      <td>16:00</td>\n      <td>Matchweek 38</td>\n      <td>Sun</td>\n      <td>Home</td>\n      <td>W</td>\n      <td>1.0</td>\n      <td>0.0</td>\n      <td>Burnley</td>\n      <td>0.6</td>\n      <td>...</td>\n      <td>0.0</td>\n      <td>0.0</td>\n      <td>0.0</td>\n      <td>2021</td>\n      <td>Sheffield United</td>\n      <td>1</td>\n      <td>1</td>\n      <td>4</td>\n      <td>16</td>\n      <td>6</td>\n    </tr>\n  </tbody>\n</table>\n<p>1389 rows × 30 columns</p>\n</div>"
     },
     "execution_count": 21,
     "metadata": {},
     "output_type": "execute_result"
    }
   ],
   "source": [
    "matches"
   ],
   "metadata": {
    "collapsed": false,
    "ExecuteTime": {
     "end_time": "2024-04-11T12:47:43.276334Z",
     "start_time": "2024-04-11T12:47:43.262202Z"
    }
   },
   "id": "913ea035db98326f",
   "execution_count": 21
  },
  {
   "cell_type": "code",
   "outputs": [
    {
     "data": {
      "text/plain": "date            datetime64[ns]\ntime                    object\nround                   object\nday                     object\nvenue                   object\nresult                  object\ngf                     float64\nga                     float64\nopponent                object\nxg                     float64\nxga                    float64\nposs                   float64\nattendance             float64\ncaptain                 object\nformation               object\nreferee                 object\nmatch report            object\nsh                     float64\nsot                    float64\ndist                   float64\nfk                     float64\npk                     float64\npkatt                  float64\nseason                   int64\nteam                    object\ntarget                   int64\nvenue_code                int8\nopp_code                  int8\nhour                     int64\nday_code                 int32\ndtype: object"
     },
     "execution_count": 22,
     "metadata": {},
     "output_type": "execute_result"
    }
   ],
   "source": [
    "matches.dtypes"
   ],
   "metadata": {
    "collapsed": false,
    "ExecuteTime": {
     "end_time": "2024-04-11T12:47:58.160208Z",
     "start_time": "2024-04-11T12:47:58.156913Z"
    }
   },
   "id": "5d137466debdbf71",
   "execution_count": 22
  },
  {
   "cell_type": "code",
   "outputs": [],
   "source": [
    "from sklearn.ensemble import RandomForestClassifier"
   ],
   "metadata": {
    "collapsed": false,
    "ExecuteTime": {
     "end_time": "2024-04-11T12:48:12.660981Z",
     "start_time": "2024-04-11T12:48:11.506905Z"
    }
   },
   "id": "fadf163a05426a94",
   "execution_count": 23
  },
  {
   "cell_type": "code",
   "outputs": [],
   "source": [
    "rf = RandomForestClassifier(n_estimators=50, min_samples_split=10, random_state=1)"
   ],
   "metadata": {
    "collapsed": false,
    "ExecuteTime": {
     "end_time": "2024-04-11T12:48:20.808666Z",
     "start_time": "2024-04-11T12:48:20.801529Z"
    }
   },
   "id": "a1aeb6542257e434",
   "execution_count": 24
  },
  {
   "cell_type": "code",
   "outputs": [],
   "source": [
    "train = matches[matches[\"date\"] < '2022-01-01']"
   ],
   "metadata": {
    "collapsed": false,
    "ExecuteTime": {
     "end_time": "2024-04-11T12:48:27.775413Z",
     "start_time": "2024-04-11T12:48:27.773031Z"
    }
   },
   "id": "2c7ae9285253a73a",
   "execution_count": 25
  },
  {
   "cell_type": "code",
   "outputs": [],
   "source": [
    "test = matches[matches[\"date\"] > '2022-01-01']"
   ],
   "metadata": {
    "collapsed": false,
    "ExecuteTime": {
     "end_time": "2024-04-11T12:48:34.940469Z",
     "start_time": "2024-04-11T12:48:34.936566Z"
    }
   },
   "id": "73ee81dbd2980fdb",
   "execution_count": 26
  },
  {
   "cell_type": "code",
   "outputs": [],
   "source": [
    "predictors = [\"venue_code\", \"opp_code\", \"hour\", \"day_code\"]"
   ],
   "metadata": {
    "collapsed": false,
    "ExecuteTime": {
     "end_time": "2024-04-11T12:48:41.890929Z",
     "start_time": "2024-04-11T12:48:41.865954Z"
    }
   },
   "id": "3d3bd3658cc5759b",
   "execution_count": 27
  },
  {
   "cell_type": "code",
   "outputs": [
    {
     "data": {
      "text/plain": "RandomForestClassifier(min_samples_split=10, n_estimators=50, random_state=1)",
      "text/html": "<style>#sk-container-id-1 {\n  /* Definition of color scheme common for light and dark mode */\n  --sklearn-color-text: black;\n  --sklearn-color-line: gray;\n  /* Definition of color scheme for unfitted estimators */\n  --sklearn-color-unfitted-level-0: #fff5e6;\n  --sklearn-color-unfitted-level-1: #f6e4d2;\n  --sklearn-color-unfitted-level-2: #ffe0b3;\n  --sklearn-color-unfitted-level-3: chocolate;\n  /* Definition of color scheme for fitted estimators */\n  --sklearn-color-fitted-level-0: #f0f8ff;\n  --sklearn-color-fitted-level-1: #d4ebff;\n  --sklearn-color-fitted-level-2: #b3dbfd;\n  --sklearn-color-fitted-level-3: cornflowerblue;\n\n  /* Specific color for light theme */\n  --sklearn-color-text-on-default-background: var(--sg-text-color, var(--theme-code-foreground, var(--jp-content-font-color1, black)));\n  --sklearn-color-background: var(--sg-background-color, var(--theme-background, var(--jp-layout-color0, white)));\n  --sklearn-color-border-box: var(--sg-text-color, var(--theme-code-foreground, var(--jp-content-font-color1, black)));\n  --sklearn-color-icon: #696969;\n\n  @media (prefers-color-scheme: dark) {\n    /* Redefinition of color scheme for dark theme */\n    --sklearn-color-text-on-default-background: var(--sg-text-color, var(--theme-code-foreground, var(--jp-content-font-color1, white)));\n    --sklearn-color-background: var(--sg-background-color, var(--theme-background, var(--jp-layout-color0, #111)));\n    --sklearn-color-border-box: var(--sg-text-color, var(--theme-code-foreground, var(--jp-content-font-color1, white)));\n    --sklearn-color-icon: #878787;\n  }\n}\n\n#sk-container-id-1 {\n  color: var(--sklearn-color-text);\n}\n\n#sk-container-id-1 pre {\n  padding: 0;\n}\n\n#sk-container-id-1 input.sk-hidden--visually {\n  border: 0;\n  clip: rect(1px 1px 1px 1px);\n  clip: rect(1px, 1px, 1px, 1px);\n  height: 1px;\n  margin: -1px;\n  overflow: hidden;\n  padding: 0;\n  position: absolute;\n  width: 1px;\n}\n\n#sk-container-id-1 div.sk-dashed-wrapped {\n  border: 1px dashed var(--sklearn-color-line);\n  margin: 0 0.4em 0.5em 0.4em;\n  box-sizing: border-box;\n  padding-bottom: 0.4em;\n  background-color: var(--sklearn-color-background);\n}\n\n#sk-container-id-1 div.sk-container {\n  /* jupyter's `normalize.less` sets `[hidden] { display: none; }`\n     but bootstrap.min.css set `[hidden] { display: none !important; }`\n     so we also need the `!important` here to be able to override the\n     default hidden behavior on the sphinx rendered scikit-learn.org.\n     See: https://github.com/scikit-learn/scikit-learn/issues/21755 */\n  display: inline-block !important;\n  position: relative;\n}\n\n#sk-container-id-1 div.sk-text-repr-fallback {\n  display: none;\n}\n\ndiv.sk-parallel-item,\ndiv.sk-serial,\ndiv.sk-item {\n  /* draw centered vertical line to link estimators */\n  background-image: linear-gradient(var(--sklearn-color-text-on-default-background), var(--sklearn-color-text-on-default-background));\n  background-size: 2px 100%;\n  background-repeat: no-repeat;\n  background-position: center center;\n}\n\n/* Parallel-specific style estimator block */\n\n#sk-container-id-1 div.sk-parallel-item::after {\n  content: \"\";\n  width: 100%;\n  border-bottom: 2px solid var(--sklearn-color-text-on-default-background);\n  flex-grow: 1;\n}\n\n#sk-container-id-1 div.sk-parallel {\n  display: flex;\n  align-items: stretch;\n  justify-content: center;\n  background-color: var(--sklearn-color-background);\n  position: relative;\n}\n\n#sk-container-id-1 div.sk-parallel-item {\n  display: flex;\n  flex-direction: column;\n}\n\n#sk-container-id-1 div.sk-parallel-item:first-child::after {\n  align-self: flex-end;\n  width: 50%;\n}\n\n#sk-container-id-1 div.sk-parallel-item:last-child::after {\n  align-self: flex-start;\n  width: 50%;\n}\n\n#sk-container-id-1 div.sk-parallel-item:only-child::after {\n  width: 0;\n}\n\n/* Serial-specific style estimator block */\n\n#sk-container-id-1 div.sk-serial {\n  display: flex;\n  flex-direction: column;\n  align-items: center;\n  background-color: var(--sklearn-color-background);\n  padding-right: 1em;\n  padding-left: 1em;\n}\n\n\n/* Toggleable style: style used for estimator/Pipeline/ColumnTransformer box that is\nclickable and can be expanded/collapsed.\n- Pipeline and ColumnTransformer use this feature and define the default style\n- Estimators will overwrite some part of the style using the `sk-estimator` class\n*/\n\n/* Pipeline and ColumnTransformer style (default) */\n\n#sk-container-id-1 div.sk-toggleable {\n  /* Default theme specific background. It is overwritten whether we have a\n  specific estimator or a Pipeline/ColumnTransformer */\n  background-color: var(--sklearn-color-background);\n}\n\n/* Toggleable label */\n#sk-container-id-1 label.sk-toggleable__label {\n  cursor: pointer;\n  display: block;\n  width: 100%;\n  margin-bottom: 0;\n  padding: 0.5em;\n  box-sizing: border-box;\n  text-align: center;\n}\n\n#sk-container-id-1 label.sk-toggleable__label-arrow:before {\n  /* Arrow on the left of the label */\n  content: \"▸\";\n  float: left;\n  margin-right: 0.25em;\n  color: var(--sklearn-color-icon);\n}\n\n#sk-container-id-1 label.sk-toggleable__label-arrow:hover:before {\n  color: var(--sklearn-color-text);\n}\n\n/* Toggleable content - dropdown */\n\n#sk-container-id-1 div.sk-toggleable__content {\n  max-height: 0;\n  max-width: 0;\n  overflow: hidden;\n  text-align: left;\n  /* unfitted */\n  background-color: var(--sklearn-color-unfitted-level-0);\n}\n\n#sk-container-id-1 div.sk-toggleable__content.fitted {\n  /* fitted */\n  background-color: var(--sklearn-color-fitted-level-0);\n}\n\n#sk-container-id-1 div.sk-toggleable__content pre {\n  margin: 0.2em;\n  border-radius: 0.25em;\n  color: var(--sklearn-color-text);\n  /* unfitted */\n  background-color: var(--sklearn-color-unfitted-level-0);\n}\n\n#sk-container-id-1 div.sk-toggleable__content.fitted pre {\n  /* unfitted */\n  background-color: var(--sklearn-color-fitted-level-0);\n}\n\n#sk-container-id-1 input.sk-toggleable__control:checked~div.sk-toggleable__content {\n  /* Expand drop-down */\n  max-height: 200px;\n  max-width: 100%;\n  overflow: auto;\n}\n\n#sk-container-id-1 input.sk-toggleable__control:checked~label.sk-toggleable__label-arrow:before {\n  content: \"▾\";\n}\n\n/* Pipeline/ColumnTransformer-specific style */\n\n#sk-container-id-1 div.sk-label input.sk-toggleable__control:checked~label.sk-toggleable__label {\n  color: var(--sklearn-color-text);\n  background-color: var(--sklearn-color-unfitted-level-2);\n}\n\n#sk-container-id-1 div.sk-label.fitted input.sk-toggleable__control:checked~label.sk-toggleable__label {\n  background-color: var(--sklearn-color-fitted-level-2);\n}\n\n/* Estimator-specific style */\n\n/* Colorize estimator box */\n#sk-container-id-1 div.sk-estimator input.sk-toggleable__control:checked~label.sk-toggleable__label {\n  /* unfitted */\n  background-color: var(--sklearn-color-unfitted-level-2);\n}\n\n#sk-container-id-1 div.sk-estimator.fitted input.sk-toggleable__control:checked~label.sk-toggleable__label {\n  /* fitted */\n  background-color: var(--sklearn-color-fitted-level-2);\n}\n\n#sk-container-id-1 div.sk-label label.sk-toggleable__label,\n#sk-container-id-1 div.sk-label label {\n  /* The background is the default theme color */\n  color: var(--sklearn-color-text-on-default-background);\n}\n\n/* On hover, darken the color of the background */\n#sk-container-id-1 div.sk-label:hover label.sk-toggleable__label {\n  color: var(--sklearn-color-text);\n  background-color: var(--sklearn-color-unfitted-level-2);\n}\n\n/* Label box, darken color on hover, fitted */\n#sk-container-id-1 div.sk-label.fitted:hover label.sk-toggleable__label.fitted {\n  color: var(--sklearn-color-text);\n  background-color: var(--sklearn-color-fitted-level-2);\n}\n\n/* Estimator label */\n\n#sk-container-id-1 div.sk-label label {\n  font-family: monospace;\n  font-weight: bold;\n  display: inline-block;\n  line-height: 1.2em;\n}\n\n#sk-container-id-1 div.sk-label-container {\n  text-align: center;\n}\n\n/* Estimator-specific */\n#sk-container-id-1 div.sk-estimator {\n  font-family: monospace;\n  border: 1px dotted var(--sklearn-color-border-box);\n  border-radius: 0.25em;\n  box-sizing: border-box;\n  margin-bottom: 0.5em;\n  /* unfitted */\n  background-color: var(--sklearn-color-unfitted-level-0);\n}\n\n#sk-container-id-1 div.sk-estimator.fitted {\n  /* fitted */\n  background-color: var(--sklearn-color-fitted-level-0);\n}\n\n/* on hover */\n#sk-container-id-1 div.sk-estimator:hover {\n  /* unfitted */\n  background-color: var(--sklearn-color-unfitted-level-2);\n}\n\n#sk-container-id-1 div.sk-estimator.fitted:hover {\n  /* fitted */\n  background-color: var(--sklearn-color-fitted-level-2);\n}\n\n/* Specification for estimator info (e.g. \"i\" and \"?\") */\n\n/* Common style for \"i\" and \"?\" */\n\n.sk-estimator-doc-link,\na:link.sk-estimator-doc-link,\na:visited.sk-estimator-doc-link {\n  float: right;\n  font-size: smaller;\n  line-height: 1em;\n  font-family: monospace;\n  background-color: var(--sklearn-color-background);\n  border-radius: 1em;\n  height: 1em;\n  width: 1em;\n  text-decoration: none !important;\n  margin-left: 1ex;\n  /* unfitted */\n  border: var(--sklearn-color-unfitted-level-1) 1pt solid;\n  color: var(--sklearn-color-unfitted-level-1);\n}\n\n.sk-estimator-doc-link.fitted,\na:link.sk-estimator-doc-link.fitted,\na:visited.sk-estimator-doc-link.fitted {\n  /* fitted */\n  border: var(--sklearn-color-fitted-level-1) 1pt solid;\n  color: var(--sklearn-color-fitted-level-1);\n}\n\n/* On hover */\ndiv.sk-estimator:hover .sk-estimator-doc-link:hover,\n.sk-estimator-doc-link:hover,\ndiv.sk-label-container:hover .sk-estimator-doc-link:hover,\n.sk-estimator-doc-link:hover {\n  /* unfitted */\n  background-color: var(--sklearn-color-unfitted-level-3);\n  color: var(--sklearn-color-background);\n  text-decoration: none;\n}\n\ndiv.sk-estimator.fitted:hover .sk-estimator-doc-link.fitted:hover,\n.sk-estimator-doc-link.fitted:hover,\ndiv.sk-label-container:hover .sk-estimator-doc-link.fitted:hover,\n.sk-estimator-doc-link.fitted:hover {\n  /* fitted */\n  background-color: var(--sklearn-color-fitted-level-3);\n  color: var(--sklearn-color-background);\n  text-decoration: none;\n}\n\n/* Span, style for the box shown on hovering the info icon */\n.sk-estimator-doc-link span {\n  display: none;\n  z-index: 9999;\n  position: relative;\n  font-weight: normal;\n  right: .2ex;\n  padding: .5ex;\n  margin: .5ex;\n  width: min-content;\n  min-width: 20ex;\n  max-width: 50ex;\n  color: var(--sklearn-color-text);\n  box-shadow: 2pt 2pt 4pt #999;\n  /* unfitted */\n  background: var(--sklearn-color-unfitted-level-0);\n  border: .5pt solid var(--sklearn-color-unfitted-level-3);\n}\n\n.sk-estimator-doc-link.fitted span {\n  /* fitted */\n  background: var(--sklearn-color-fitted-level-0);\n  border: var(--sklearn-color-fitted-level-3);\n}\n\n.sk-estimator-doc-link:hover span {\n  display: block;\n}\n\n/* \"?\"-specific style due to the `<a>` HTML tag */\n\n#sk-container-id-1 a.estimator_doc_link {\n  float: right;\n  font-size: 1rem;\n  line-height: 1em;\n  font-family: monospace;\n  background-color: var(--sklearn-color-background);\n  border-radius: 1rem;\n  height: 1rem;\n  width: 1rem;\n  text-decoration: none;\n  /* unfitted */\n  color: var(--sklearn-color-unfitted-level-1);\n  border: var(--sklearn-color-unfitted-level-1) 1pt solid;\n}\n\n#sk-container-id-1 a.estimator_doc_link.fitted {\n  /* fitted */\n  border: var(--sklearn-color-fitted-level-1) 1pt solid;\n  color: var(--sklearn-color-fitted-level-1);\n}\n\n/* On hover */\n#sk-container-id-1 a.estimator_doc_link:hover {\n  /* unfitted */\n  background-color: var(--sklearn-color-unfitted-level-3);\n  color: var(--sklearn-color-background);\n  text-decoration: none;\n}\n\n#sk-container-id-1 a.estimator_doc_link.fitted:hover {\n  /* fitted */\n  background-color: var(--sklearn-color-fitted-level-3);\n}\n</style><div id=\"sk-container-id-1\" class=\"sk-top-container\"><div class=\"sk-text-repr-fallback\"><pre>RandomForestClassifier(min_samples_split=10, n_estimators=50, random_state=1)</pre><b>In a Jupyter environment, please rerun this cell to show the HTML representation or trust the notebook. <br />On GitHub, the HTML representation is unable to render, please try loading this page with nbviewer.org.</b></div><div class=\"sk-container\" hidden><div class=\"sk-item\"><div class=\"sk-estimator fitted sk-toggleable\"><input class=\"sk-toggleable__control sk-hidden--visually\" id=\"sk-estimator-id-1\" type=\"checkbox\" checked><label for=\"sk-estimator-id-1\" class=\"sk-toggleable__label fitted sk-toggleable__label-arrow fitted\">&nbsp;&nbsp;RandomForestClassifier<a class=\"sk-estimator-doc-link fitted\" rel=\"noreferrer\" target=\"_blank\" href=\"https://scikit-learn.org/1.4/modules/generated/sklearn.ensemble.RandomForestClassifier.html\">?<span>Documentation for RandomForestClassifier</span></a><span class=\"sk-estimator-doc-link fitted\">i<span>Fitted</span></span></label><div class=\"sk-toggleable__content fitted\"><pre>RandomForestClassifier(min_samples_split=10, n_estimators=50, random_state=1)</pre></div> </div></div></div></div>"
     },
     "execution_count": 28,
     "metadata": {},
     "output_type": "execute_result"
    }
   ],
   "source": [
    "rf.fit(train[predictors], train[\"target\"])"
   ],
   "metadata": {
    "collapsed": false,
    "ExecuteTime": {
     "end_time": "2024-04-11T12:48:48.458761Z",
     "start_time": "2024-04-11T12:48:48.384653Z"
    }
   },
   "id": "5e16fff65501584",
   "execution_count": 28
  },
  {
   "cell_type": "code",
   "outputs": [],
   "source": [
    "preds = rf.predict(test[predictors])"
   ],
   "metadata": {
    "collapsed": false,
    "ExecuteTime": {
     "end_time": "2024-04-11T12:49:02.490681Z",
     "start_time": "2024-04-11T12:49:02.486865Z"
    }
   },
   "id": "dc013105384f9ab5",
   "execution_count": 29
  },
  {
   "cell_type": "code",
   "outputs": [],
   "source": [
    "from sklearn.metrics import accuracy_score"
   ],
   "metadata": {
    "collapsed": false,
    "ExecuteTime": {
     "end_time": "2024-04-11T12:49:09.944227Z",
     "start_time": "2024-04-11T12:49:09.936812Z"
    }
   },
   "id": "2f6e2461550fcfd7",
   "execution_count": 30
  },
  {
   "cell_type": "code",
   "outputs": [],
   "source": [
    "error = accuracy_score(test[\"target\"], preds)"
   ],
   "metadata": {
    "collapsed": false,
    "ExecuteTime": {
     "end_time": "2024-04-11T12:49:20.576054Z",
     "start_time": "2024-04-11T12:49:20.568698Z"
    }
   },
   "id": "c281feefed61419a",
   "execution_count": 31
  },
  {
   "cell_type": "code",
   "outputs": [
    {
     "data": {
      "text/plain": "0.6123188405797102"
     },
     "execution_count": 32,
     "metadata": {},
     "output_type": "execute_result"
    }
   ],
   "source": [
    "error"
   ],
   "metadata": {
    "collapsed": false,
    "ExecuteTime": {
     "end_time": "2024-04-11T12:49:27.256916Z",
     "start_time": "2024-04-11T12:49:27.248292Z"
    }
   },
   "id": "770548e5f12c4201",
   "execution_count": 32
  },
  {
   "cell_type": "code",
   "outputs": [],
   "source": [
    "combined = pd.DataFrame(dict(actual=test[\"target\"], predicted=preds))"
   ],
   "metadata": {
    "collapsed": false,
    "ExecuteTime": {
     "end_time": "2024-04-11T12:49:52.819202Z",
     "start_time": "2024-04-11T12:49:52.804197Z"
    }
   },
   "id": "6959a4d58eca8152",
   "execution_count": 33
  },
  {
   "cell_type": "code",
   "outputs": [
    {
     "data": {
      "text/plain": "predicted    0   1\nactual            \n0          141  31\n1           76  28",
      "text/html": "<div>\n<style scoped>\n    .dataframe tbody tr th:only-of-type {\n        vertical-align: middle;\n    }\n\n    .dataframe tbody tr th {\n        vertical-align: top;\n    }\n\n    .dataframe thead th {\n        text-align: right;\n    }\n</style>\n<table border=\"1\" class=\"dataframe\">\n  <thead>\n    <tr style=\"text-align: right;\">\n      <th>predicted</th>\n      <th>0</th>\n      <th>1</th>\n    </tr>\n    <tr>\n      <th>actual</th>\n      <th></th>\n      <th></th>\n    </tr>\n  </thead>\n  <tbody>\n    <tr>\n      <th>0</th>\n      <td>141</td>\n      <td>31</td>\n    </tr>\n    <tr>\n      <th>1</th>\n      <td>76</td>\n      <td>28</td>\n    </tr>\n  </tbody>\n</table>\n</div>"
     },
     "execution_count": 34,
     "metadata": {},
     "output_type": "execute_result"
    }
   ],
   "source": [
    "pd.crosstab(index=combined[\"actual\"], columns=combined[\"predicted\"])"
   ],
   "metadata": {
    "collapsed": false,
    "ExecuteTime": {
     "end_time": "2024-04-11T12:49:59.658524Z",
     "start_time": "2024-04-11T12:49:59.634977Z"
    }
   },
   "id": "115a512343d268b1",
   "execution_count": 34
  },
  {
   "cell_type": "code",
   "outputs": [
    {
     "data": {
      "text/plain": "0.4745762711864407"
     },
     "execution_count": 35,
     "metadata": {},
     "output_type": "execute_result"
    }
   ],
   "source": [
    "from sklearn.metrics import precision_score\n",
    "\n",
    "precision_score(test[\"target\"], preds)"
   ],
   "metadata": {
    "collapsed": false,
    "ExecuteTime": {
     "end_time": "2024-04-11T12:50:09.173354Z",
     "start_time": "2024-04-11T12:50:09.165430Z"
    }
   },
   "id": "c3556170f1a2553a",
   "execution_count": 35
  },
  {
   "cell_type": "code",
   "outputs": [],
   "source": [
    "grouped_matches = matches.groupby(\"team\")"
   ],
   "metadata": {
    "collapsed": false,
    "ExecuteTime": {
     "end_time": "2024-04-11T12:50:16.937320Z",
     "start_time": "2024-04-11T12:50:16.924743Z"
    }
   },
   "id": "47fad67601bddc6",
   "execution_count": 36
  },
  {
   "cell_type": "code",
   "outputs": [],
   "source": [
    "group = grouped_matches.get_group(\"Manchester City\").sort_values(\"date\")"
   ],
   "metadata": {
    "collapsed": false,
    "ExecuteTime": {
     "end_time": "2024-04-11T12:50:23.473763Z",
     "start_time": "2024-04-11T12:50:23.464667Z"
    }
   },
   "id": "536dfda7f6e51851",
   "execution_count": 37
  },
  {
   "cell_type": "code",
   "outputs": [],
   "source": [
    "def rolling_averages(group, cols, new_cols):\n",
    "    group = group.sort_values(\"date\")\n",
    "    rolling_stats = group[cols].rolling(3, closed='left').mean()\n",
    "    group[new_cols] = rolling_stats\n",
    "    group = group.dropna(subset=new_cols)\n",
    "    return group"
   ],
   "metadata": {
    "collapsed": false,
    "ExecuteTime": {
     "end_time": "2024-04-11T12:50:29.822142Z",
     "start_time": "2024-04-11T12:50:29.813092Z"
    }
   },
   "id": "c1c471b533ea3e8f",
   "execution_count": 38
  },
  {
   "cell_type": "code",
   "outputs": [
    {
     "data": {
      "text/plain": "         date   time         round  day venue result   gf   ga  \\\n5  2020-10-17  17:30   Matchweek 5  Sat  Home      W  1.0  0.0   \n7  2020-10-24  12:30   Matchweek 6  Sat  Away      D  1.0  1.0   \n9  2020-10-31  12:30   Matchweek 7  Sat  Away      W  1.0  0.0   \n11 2020-11-08  16:30   Matchweek 8  Sun  Home      D  1.0  1.0   \n12 2020-11-21  17:30   Matchweek 9  Sat  Away      L  0.0  2.0   \n..        ...    ...           ...  ...   ...    ...  ...  ...   \n42 2022-03-14  20:00  Matchweek 29  Mon  Away      D  0.0  0.0   \n44 2022-04-02  15:00  Matchweek 31  Sat  Away      W  2.0  0.0   \n46 2022-04-10  16:30  Matchweek 32  Sun  Home      D  2.0  2.0   \n49 2022-04-20  20:00  Matchweek 30  Wed  Home      W  3.0  0.0   \n50 2022-04-23  15:00  Matchweek 34  Sat  Home      W  5.0  1.0   \n\n          opponent   xg  ...  hour  day_code  gf_rolling ga_rolling  \\\n5          Arsenal  1.5  ...    17         5    2.000000   2.333333   \n7         West Ham  1.1  ...    12         5    1.333333   2.000000   \n9    Sheffield Utd  1.5  ...    12         5    1.000000   0.666667   \n11       Liverpool  1.6  ...    16         6    1.000000   0.333333   \n12       Tottenham  1.3  ...    17         5    1.000000   0.666667   \n..             ...  ...  ...   ...       ...         ...        ...   \n42  Crystal Palace  2.3  ...    20         0    2.333333   1.333333   \n44         Burnley  1.8  ...    15         5    1.666667   0.333333   \n46       Liverpool  2.0  ...    16         6    2.000000   0.333333   \n49        Brighton  1.2  ...    20         2    1.333333   0.666667   \n50         Watford  3.0  ...    15         5    2.333333   0.666667   \n\n   sh_rolling sot_rolling dist_rolling  fk_rolling  pk_rolling  pkatt_rolling  \n5   17.333333    4.666667    18.900000    1.333333    0.333333       0.333333  \n7   17.333333    3.666667    17.733333    0.666667    0.000000       0.000000  \n9   16.666667    4.333333    18.233333    0.666667    0.000000       0.000000  \n11  14.333333    6.666667    18.466667    1.000000    0.000000       0.000000  \n12  12.000000    5.666667    19.366667    1.000000    0.000000       0.333333  \n..        ...         ...          ...         ...         ...            ...  \n42  19.000000    7.000000    15.366667    0.333333    0.333333       0.333333  \n44  18.333333    7.333333    16.000000    0.333333    0.000000       0.000000  \n46  20.000000    6.666667    16.133333    0.333333    0.000000       0.000000  \n49  15.666667    4.666667    16.700000    0.333333    0.000000       0.000000  \n50  15.333333    5.000000    17.200000    0.333333    0.000000       0.000000  \n\n[68 rows x 38 columns]",
      "text/html": "<div>\n<style scoped>\n    .dataframe tbody tr th:only-of-type {\n        vertical-align: middle;\n    }\n\n    .dataframe tbody tr th {\n        vertical-align: top;\n    }\n\n    .dataframe thead th {\n        text-align: right;\n    }\n</style>\n<table border=\"1\" class=\"dataframe\">\n  <thead>\n    <tr style=\"text-align: right;\">\n      <th></th>\n      <th>date</th>\n      <th>time</th>\n      <th>round</th>\n      <th>day</th>\n      <th>venue</th>\n      <th>result</th>\n      <th>gf</th>\n      <th>ga</th>\n      <th>opponent</th>\n      <th>xg</th>\n      <th>...</th>\n      <th>hour</th>\n      <th>day_code</th>\n      <th>gf_rolling</th>\n      <th>ga_rolling</th>\n      <th>sh_rolling</th>\n      <th>sot_rolling</th>\n      <th>dist_rolling</th>\n      <th>fk_rolling</th>\n      <th>pk_rolling</th>\n      <th>pkatt_rolling</th>\n    </tr>\n  </thead>\n  <tbody>\n    <tr>\n      <th>5</th>\n      <td>2020-10-17</td>\n      <td>17:30</td>\n      <td>Matchweek 5</td>\n      <td>Sat</td>\n      <td>Home</td>\n      <td>W</td>\n      <td>1.0</td>\n      <td>0.0</td>\n      <td>Arsenal</td>\n      <td>1.5</td>\n      <td>...</td>\n      <td>17</td>\n      <td>5</td>\n      <td>2.000000</td>\n      <td>2.333333</td>\n      <td>17.333333</td>\n      <td>4.666667</td>\n      <td>18.900000</td>\n      <td>1.333333</td>\n      <td>0.333333</td>\n      <td>0.333333</td>\n    </tr>\n    <tr>\n      <th>7</th>\n      <td>2020-10-24</td>\n      <td>12:30</td>\n      <td>Matchweek 6</td>\n      <td>Sat</td>\n      <td>Away</td>\n      <td>D</td>\n      <td>1.0</td>\n      <td>1.0</td>\n      <td>West Ham</td>\n      <td>1.1</td>\n      <td>...</td>\n      <td>12</td>\n      <td>5</td>\n      <td>1.333333</td>\n      <td>2.000000</td>\n      <td>17.333333</td>\n      <td>3.666667</td>\n      <td>17.733333</td>\n      <td>0.666667</td>\n      <td>0.000000</td>\n      <td>0.000000</td>\n    </tr>\n    <tr>\n      <th>9</th>\n      <td>2020-10-31</td>\n      <td>12:30</td>\n      <td>Matchweek 7</td>\n      <td>Sat</td>\n      <td>Away</td>\n      <td>W</td>\n      <td>1.0</td>\n      <td>0.0</td>\n      <td>Sheffield Utd</td>\n      <td>1.5</td>\n      <td>...</td>\n      <td>12</td>\n      <td>5</td>\n      <td>1.000000</td>\n      <td>0.666667</td>\n      <td>16.666667</td>\n      <td>4.333333</td>\n      <td>18.233333</td>\n      <td>0.666667</td>\n      <td>0.000000</td>\n      <td>0.000000</td>\n    </tr>\n    <tr>\n      <th>11</th>\n      <td>2020-11-08</td>\n      <td>16:30</td>\n      <td>Matchweek 8</td>\n      <td>Sun</td>\n      <td>Home</td>\n      <td>D</td>\n      <td>1.0</td>\n      <td>1.0</td>\n      <td>Liverpool</td>\n      <td>1.6</td>\n      <td>...</td>\n      <td>16</td>\n      <td>6</td>\n      <td>1.000000</td>\n      <td>0.333333</td>\n      <td>14.333333</td>\n      <td>6.666667</td>\n      <td>18.466667</td>\n      <td>1.000000</td>\n      <td>0.000000</td>\n      <td>0.000000</td>\n    </tr>\n    <tr>\n      <th>12</th>\n      <td>2020-11-21</td>\n      <td>17:30</td>\n      <td>Matchweek 9</td>\n      <td>Sat</td>\n      <td>Away</td>\n      <td>L</td>\n      <td>0.0</td>\n      <td>2.0</td>\n      <td>Tottenham</td>\n      <td>1.3</td>\n      <td>...</td>\n      <td>17</td>\n      <td>5</td>\n      <td>1.000000</td>\n      <td>0.666667</td>\n      <td>12.000000</td>\n      <td>5.666667</td>\n      <td>19.366667</td>\n      <td>1.000000</td>\n      <td>0.000000</td>\n      <td>0.333333</td>\n    </tr>\n    <tr>\n      <th>...</th>\n      <td>...</td>\n      <td>...</td>\n      <td>...</td>\n      <td>...</td>\n      <td>...</td>\n      <td>...</td>\n      <td>...</td>\n      <td>...</td>\n      <td>...</td>\n      <td>...</td>\n      <td>...</td>\n      <td>...</td>\n      <td>...</td>\n      <td>...</td>\n      <td>...</td>\n      <td>...</td>\n      <td>...</td>\n      <td>...</td>\n      <td>...</td>\n      <td>...</td>\n      <td>...</td>\n    </tr>\n    <tr>\n      <th>42</th>\n      <td>2022-03-14</td>\n      <td>20:00</td>\n      <td>Matchweek 29</td>\n      <td>Mon</td>\n      <td>Away</td>\n      <td>D</td>\n      <td>0.0</td>\n      <td>0.0</td>\n      <td>Crystal Palace</td>\n      <td>2.3</td>\n      <td>...</td>\n      <td>20</td>\n      <td>0</td>\n      <td>2.333333</td>\n      <td>1.333333</td>\n      <td>19.000000</td>\n      <td>7.000000</td>\n      <td>15.366667</td>\n      <td>0.333333</td>\n      <td>0.333333</td>\n      <td>0.333333</td>\n    </tr>\n    <tr>\n      <th>44</th>\n      <td>2022-04-02</td>\n      <td>15:00</td>\n      <td>Matchweek 31</td>\n      <td>Sat</td>\n      <td>Away</td>\n      <td>W</td>\n      <td>2.0</td>\n      <td>0.0</td>\n      <td>Burnley</td>\n      <td>1.8</td>\n      <td>...</td>\n      <td>15</td>\n      <td>5</td>\n      <td>1.666667</td>\n      <td>0.333333</td>\n      <td>18.333333</td>\n      <td>7.333333</td>\n      <td>16.000000</td>\n      <td>0.333333</td>\n      <td>0.000000</td>\n      <td>0.000000</td>\n    </tr>\n    <tr>\n      <th>46</th>\n      <td>2022-04-10</td>\n      <td>16:30</td>\n      <td>Matchweek 32</td>\n      <td>Sun</td>\n      <td>Home</td>\n      <td>D</td>\n      <td>2.0</td>\n      <td>2.0</td>\n      <td>Liverpool</td>\n      <td>2.0</td>\n      <td>...</td>\n      <td>16</td>\n      <td>6</td>\n      <td>2.000000</td>\n      <td>0.333333</td>\n      <td>20.000000</td>\n      <td>6.666667</td>\n      <td>16.133333</td>\n      <td>0.333333</td>\n      <td>0.000000</td>\n      <td>0.000000</td>\n    </tr>\n    <tr>\n      <th>49</th>\n      <td>2022-04-20</td>\n      <td>20:00</td>\n      <td>Matchweek 30</td>\n      <td>Wed</td>\n      <td>Home</td>\n      <td>W</td>\n      <td>3.0</td>\n      <td>0.0</td>\n      <td>Brighton</td>\n      <td>1.2</td>\n      <td>...</td>\n      <td>20</td>\n      <td>2</td>\n      <td>1.333333</td>\n      <td>0.666667</td>\n      <td>15.666667</td>\n      <td>4.666667</td>\n      <td>16.700000</td>\n      <td>0.333333</td>\n      <td>0.000000</td>\n      <td>0.000000</td>\n    </tr>\n    <tr>\n      <th>50</th>\n      <td>2022-04-23</td>\n      <td>15:00</td>\n      <td>Matchweek 34</td>\n      <td>Sat</td>\n      <td>Home</td>\n      <td>W</td>\n      <td>5.0</td>\n      <td>1.0</td>\n      <td>Watford</td>\n      <td>3.0</td>\n      <td>...</td>\n      <td>15</td>\n      <td>5</td>\n      <td>2.333333</td>\n      <td>0.666667</td>\n      <td>15.333333</td>\n      <td>5.000000</td>\n      <td>17.200000</td>\n      <td>0.333333</td>\n      <td>0.000000</td>\n      <td>0.000000</td>\n    </tr>\n  </tbody>\n</table>\n<p>68 rows × 38 columns</p>\n</div>"
     },
     "execution_count": 39,
     "metadata": {},
     "output_type": "execute_result"
    }
   ],
   "source": [
    "cols = [\"gf\", \"ga\", \"sh\", \"sot\", \"dist\", \"fk\", \"pk\", \"pkatt\"]\n",
    "new_cols = [f\"{c}_rolling\" for c in cols]\n",
    "\n",
    "rolling_averages(group, cols, new_cols)"
   ],
   "metadata": {
    "collapsed": false,
    "ExecuteTime": {
     "end_time": "2024-04-11T12:50:36.702880Z",
     "start_time": "2024-04-11T12:50:36.682603Z"
    }
   },
   "id": "bcc680d02b33e922",
   "execution_count": 39
  },
  {
   "cell_type": "code",
   "outputs": [
    {
     "name": "stderr",
     "output_type": "stream",
     "text": [
      "/var/folders/5q/31jkzvmj01g8lnlnnmwqgv700000gn/T/ipykernel_69497/3471772870.py:1: DeprecationWarning: DataFrameGroupBy.apply operated on the grouping columns. This behavior is deprecated, and in a future version of pandas the grouping columns will be excluded from the operation. Either pass `include_groups=False` to exclude the groupings or explicitly select the grouping columns after groupby to silence this warning.\n",
      "  matches_rolling = matches.groupby(\"team\").apply(lambda x: rolling_averages(x, cols, new_cols))\n"
     ]
    }
   ],
   "source": [
    "matches_rolling = matches.groupby(\"team\").apply(lambda x: rolling_averages(x, cols, new_cols))"
   ],
   "metadata": {
    "collapsed": false,
    "ExecuteTime": {
     "end_time": "2024-04-11T12:50:47.950699Z",
     "start_time": "2024-04-11T12:50:47.905792Z"
    }
   },
   "id": "db87063d953a6140",
   "execution_count": 40
  },
  {
   "cell_type": "code",
   "outputs": [
    {
     "data": {
      "text/plain": "                                 date   time         round  day venue result  \\\nteam                                                                           \nArsenal                 6  2020-10-04  14:00   Matchweek 4  Sun  Home      W   \n                        7  2020-10-17  17:30   Matchweek 5  Sat  Away      L   \n                        9  2020-10-25  19:15   Matchweek 6  Sun  Home      L   \n                        11 2020-11-01  16:30   Matchweek 7  Sun  Away      W   \n                        13 2020-11-08  19:15   Matchweek 8  Sun  Home      L   \n...                               ...    ...           ...  ...   ...    ...   \nWolverhampton Wanderers 32 2022-03-13  14:00  Matchweek 29  Sun  Away      W   \n                        33 2022-03-18  20:00  Matchweek 30  Fri  Home      L   \n                        34 2022-04-02  15:00  Matchweek 31  Sat  Home      W   \n                        35 2022-04-08  20:00  Matchweek 32  Fri  Away      L   \n                        36 2022-04-24  14:00  Matchweek 34  Sun  Away      L   \n\n                             gf   ga         opponent   xg  ...  hour  \\\nteam                                                        ...         \nArsenal                 6   2.0  1.0    Sheffield Utd  0.4  ...    14   \n                        7   0.0  1.0  Manchester City  0.9  ...    17   \n                        9   0.0  1.0   Leicester City  0.9  ...    19   \n                        11  1.0  0.0   Manchester Utd  1.1  ...    16   \n                        13  0.0  3.0      Aston Villa  1.5  ...    19   \n...                         ...  ...              ...  ...  ...   ...   \nWolverhampton Wanderers 32  1.0  0.0          Everton  0.8  ...    14   \n                        33  2.0  3.0     Leeds United  0.8  ...    20   \n                        34  2.0  1.0      Aston Villa  1.2  ...    15   \n                        35  0.0  1.0    Newcastle Utd  0.3  ...    20   \n                        36  0.0  1.0          Burnley  0.7  ...    14   \n\n                            day_code  gf_rolling ga_rolling sh_rolling  \\\nteam                                                                     \nArsenal                 6          6    2.000000   1.333333   7.666667   \n                        7          5    1.666667   1.666667   5.333333   \n                        9          6    1.000000   1.666667   7.000000   \n                        11         6    0.666667   1.000000   9.666667   \n                        13         6    0.333333   0.666667   9.666667   \n...                              ...         ...        ...        ...   \nWolverhampton Wanderers 32         6    1.333333   1.000000  12.333333   \n                        33         4    1.666667   0.666667  12.333333   \n                        34         5    2.333333   1.000000  13.000000   \n                        35         4    1.666667   1.333333  13.000000   \n                        36         6    1.333333   1.666667  10.000000   \n\n                           sot_rolling dist_rolling  fk_rolling  pk_rolling  \\\nteam                                                                          \nArsenal                 6     3.666667    14.733333    0.666667    0.000000   \n                        7     3.666667    15.766667    0.000000    0.000000   \n                        9     3.666667    16.733333    0.666667    0.000000   \n                        11    4.000000    16.033333    1.000000    0.000000   \n                        13    2.666667    18.033333    1.000000    0.333333   \n...                                ...          ...         ...         ...   \nWolverhampton Wanderers 32    3.666667    19.300000    0.000000    0.000000   \n                        33    4.333333    19.600000    0.000000    0.000000   \n                        34    5.333333    19.833333    0.000000    0.000000   \n                        35    5.000000    18.533333    0.000000    0.000000   \n                        36    4.666667    17.633333    0.000000    0.000000   \n\n                            pkatt_rolling  \nteam                                       \nArsenal                 6        0.000000  \n                        7        0.000000  \n                        9        0.000000  \n                        11       0.000000  \n                        13       0.333333  \n...                                   ...  \nWolverhampton Wanderers 32       0.000000  \n                        33       0.000000  \n                        34       0.000000  \n                        35       0.000000  \n                        36       0.000000  \n\n[1317 rows x 38 columns]",
      "text/html": "<div>\n<style scoped>\n    .dataframe tbody tr th:only-of-type {\n        vertical-align: middle;\n    }\n\n    .dataframe tbody tr th {\n        vertical-align: top;\n    }\n\n    .dataframe thead th {\n        text-align: right;\n    }\n</style>\n<table border=\"1\" class=\"dataframe\">\n  <thead>\n    <tr style=\"text-align: right;\">\n      <th></th>\n      <th></th>\n      <th>date</th>\n      <th>time</th>\n      <th>round</th>\n      <th>day</th>\n      <th>venue</th>\n      <th>result</th>\n      <th>gf</th>\n      <th>ga</th>\n      <th>opponent</th>\n      <th>xg</th>\n      <th>...</th>\n      <th>hour</th>\n      <th>day_code</th>\n      <th>gf_rolling</th>\n      <th>ga_rolling</th>\n      <th>sh_rolling</th>\n      <th>sot_rolling</th>\n      <th>dist_rolling</th>\n      <th>fk_rolling</th>\n      <th>pk_rolling</th>\n      <th>pkatt_rolling</th>\n    </tr>\n    <tr>\n      <th>team</th>\n      <th></th>\n      <th></th>\n      <th></th>\n      <th></th>\n      <th></th>\n      <th></th>\n      <th></th>\n      <th></th>\n      <th></th>\n      <th></th>\n      <th></th>\n      <th></th>\n      <th></th>\n      <th></th>\n      <th></th>\n      <th></th>\n      <th></th>\n      <th></th>\n      <th></th>\n      <th></th>\n      <th></th>\n      <th></th>\n    </tr>\n  </thead>\n  <tbody>\n    <tr>\n      <th rowspan=\"5\" valign=\"top\">Arsenal</th>\n      <th>6</th>\n      <td>2020-10-04</td>\n      <td>14:00</td>\n      <td>Matchweek 4</td>\n      <td>Sun</td>\n      <td>Home</td>\n      <td>W</td>\n      <td>2.0</td>\n      <td>1.0</td>\n      <td>Sheffield Utd</td>\n      <td>0.4</td>\n      <td>...</td>\n      <td>14</td>\n      <td>6</td>\n      <td>2.000000</td>\n      <td>1.333333</td>\n      <td>7.666667</td>\n      <td>3.666667</td>\n      <td>14.733333</td>\n      <td>0.666667</td>\n      <td>0.000000</td>\n      <td>0.000000</td>\n    </tr>\n    <tr>\n      <th>7</th>\n      <td>2020-10-17</td>\n      <td>17:30</td>\n      <td>Matchweek 5</td>\n      <td>Sat</td>\n      <td>Away</td>\n      <td>L</td>\n      <td>0.0</td>\n      <td>1.0</td>\n      <td>Manchester City</td>\n      <td>0.9</td>\n      <td>...</td>\n      <td>17</td>\n      <td>5</td>\n      <td>1.666667</td>\n      <td>1.666667</td>\n      <td>5.333333</td>\n      <td>3.666667</td>\n      <td>15.766667</td>\n      <td>0.000000</td>\n      <td>0.000000</td>\n      <td>0.000000</td>\n    </tr>\n    <tr>\n      <th>9</th>\n      <td>2020-10-25</td>\n      <td>19:15</td>\n      <td>Matchweek 6</td>\n      <td>Sun</td>\n      <td>Home</td>\n      <td>L</td>\n      <td>0.0</td>\n      <td>1.0</td>\n      <td>Leicester City</td>\n      <td>0.9</td>\n      <td>...</td>\n      <td>19</td>\n      <td>6</td>\n      <td>1.000000</td>\n      <td>1.666667</td>\n      <td>7.000000</td>\n      <td>3.666667</td>\n      <td>16.733333</td>\n      <td>0.666667</td>\n      <td>0.000000</td>\n      <td>0.000000</td>\n    </tr>\n    <tr>\n      <th>11</th>\n      <td>2020-11-01</td>\n      <td>16:30</td>\n      <td>Matchweek 7</td>\n      <td>Sun</td>\n      <td>Away</td>\n      <td>W</td>\n      <td>1.0</td>\n      <td>0.0</td>\n      <td>Manchester Utd</td>\n      <td>1.1</td>\n      <td>...</td>\n      <td>16</td>\n      <td>6</td>\n      <td>0.666667</td>\n      <td>1.000000</td>\n      <td>9.666667</td>\n      <td>4.000000</td>\n      <td>16.033333</td>\n      <td>1.000000</td>\n      <td>0.000000</td>\n      <td>0.000000</td>\n    </tr>\n    <tr>\n      <th>13</th>\n      <td>2020-11-08</td>\n      <td>19:15</td>\n      <td>Matchweek 8</td>\n      <td>Sun</td>\n      <td>Home</td>\n      <td>L</td>\n      <td>0.0</td>\n      <td>3.0</td>\n      <td>Aston Villa</td>\n      <td>1.5</td>\n      <td>...</td>\n      <td>19</td>\n      <td>6</td>\n      <td>0.333333</td>\n      <td>0.666667</td>\n      <td>9.666667</td>\n      <td>2.666667</td>\n      <td>18.033333</td>\n      <td>1.000000</td>\n      <td>0.333333</td>\n      <td>0.333333</td>\n    </tr>\n    <tr>\n      <th>...</th>\n      <th>...</th>\n      <td>...</td>\n      <td>...</td>\n      <td>...</td>\n      <td>...</td>\n      <td>...</td>\n      <td>...</td>\n      <td>...</td>\n      <td>...</td>\n      <td>...</td>\n      <td>...</td>\n      <td>...</td>\n      <td>...</td>\n      <td>...</td>\n      <td>...</td>\n      <td>...</td>\n      <td>...</td>\n      <td>...</td>\n      <td>...</td>\n      <td>...</td>\n      <td>...</td>\n      <td>...</td>\n    </tr>\n    <tr>\n      <th rowspan=\"5\" valign=\"top\">Wolverhampton Wanderers</th>\n      <th>32</th>\n      <td>2022-03-13</td>\n      <td>14:00</td>\n      <td>Matchweek 29</td>\n      <td>Sun</td>\n      <td>Away</td>\n      <td>W</td>\n      <td>1.0</td>\n      <td>0.0</td>\n      <td>Everton</td>\n      <td>0.8</td>\n      <td>...</td>\n      <td>14</td>\n      <td>6</td>\n      <td>1.333333</td>\n      <td>1.000000</td>\n      <td>12.333333</td>\n      <td>3.666667</td>\n      <td>19.300000</td>\n      <td>0.000000</td>\n      <td>0.000000</td>\n      <td>0.000000</td>\n    </tr>\n    <tr>\n      <th>33</th>\n      <td>2022-03-18</td>\n      <td>20:00</td>\n      <td>Matchweek 30</td>\n      <td>Fri</td>\n      <td>Home</td>\n      <td>L</td>\n      <td>2.0</td>\n      <td>3.0</td>\n      <td>Leeds United</td>\n      <td>0.8</td>\n      <td>...</td>\n      <td>20</td>\n      <td>4</td>\n      <td>1.666667</td>\n      <td>0.666667</td>\n      <td>12.333333</td>\n      <td>4.333333</td>\n      <td>19.600000</td>\n      <td>0.000000</td>\n      <td>0.000000</td>\n      <td>0.000000</td>\n    </tr>\n    <tr>\n      <th>34</th>\n      <td>2022-04-02</td>\n      <td>15:00</td>\n      <td>Matchweek 31</td>\n      <td>Sat</td>\n      <td>Home</td>\n      <td>W</td>\n      <td>2.0</td>\n      <td>1.0</td>\n      <td>Aston Villa</td>\n      <td>1.2</td>\n      <td>...</td>\n      <td>15</td>\n      <td>5</td>\n      <td>2.333333</td>\n      <td>1.000000</td>\n      <td>13.000000</td>\n      <td>5.333333</td>\n      <td>19.833333</td>\n      <td>0.000000</td>\n      <td>0.000000</td>\n      <td>0.000000</td>\n    </tr>\n    <tr>\n      <th>35</th>\n      <td>2022-04-08</td>\n      <td>20:00</td>\n      <td>Matchweek 32</td>\n      <td>Fri</td>\n      <td>Away</td>\n      <td>L</td>\n      <td>0.0</td>\n      <td>1.0</td>\n      <td>Newcastle Utd</td>\n      <td>0.3</td>\n      <td>...</td>\n      <td>20</td>\n      <td>4</td>\n      <td>1.666667</td>\n      <td>1.333333</td>\n      <td>13.000000</td>\n      <td>5.000000</td>\n      <td>18.533333</td>\n      <td>0.000000</td>\n      <td>0.000000</td>\n      <td>0.000000</td>\n    </tr>\n    <tr>\n      <th>36</th>\n      <td>2022-04-24</td>\n      <td>14:00</td>\n      <td>Matchweek 34</td>\n      <td>Sun</td>\n      <td>Away</td>\n      <td>L</td>\n      <td>0.0</td>\n      <td>1.0</td>\n      <td>Burnley</td>\n      <td>0.7</td>\n      <td>...</td>\n      <td>14</td>\n      <td>6</td>\n      <td>1.333333</td>\n      <td>1.666667</td>\n      <td>10.000000</td>\n      <td>4.666667</td>\n      <td>17.633333</td>\n      <td>0.000000</td>\n      <td>0.000000</td>\n      <td>0.000000</td>\n    </tr>\n  </tbody>\n</table>\n<p>1317 rows × 38 columns</p>\n</div>"
     },
     "execution_count": 41,
     "metadata": {},
     "output_type": "execute_result"
    }
   ],
   "source": [
    "matches_rolling"
   ],
   "metadata": {
    "collapsed": false,
    "ExecuteTime": {
     "end_time": "2024-04-11T12:51:07.223662Z",
     "start_time": "2024-04-11T12:51:07.210141Z"
    }
   },
   "id": "e64ca9e4caecfe34",
   "execution_count": 41
  },
  {
   "cell_type": "code",
   "outputs": [],
   "source": [
    "matches_rolling = matches_rolling.droplevel('team')"
   ],
   "metadata": {
    "collapsed": false,
    "ExecuteTime": {
     "end_time": "2024-04-11T12:51:35.643858Z",
     "start_time": "2024-04-11T12:51:35.625623Z"
    }
   },
   "id": "56b7470d7c20cd44",
   "execution_count": 42
  },
  {
   "cell_type": "code",
   "outputs": [
    {
     "data": {
      "text/plain": "         date   time         round  day venue result   gf   ga  \\\n6  2020-10-04  14:00   Matchweek 4  Sun  Home      W  2.0  1.0   \n7  2020-10-17  17:30   Matchweek 5  Sat  Away      L  0.0  1.0   \n9  2020-10-25  19:15   Matchweek 6  Sun  Home      L  0.0  1.0   \n11 2020-11-01  16:30   Matchweek 7  Sun  Away      W  1.0  0.0   \n13 2020-11-08  19:15   Matchweek 8  Sun  Home      L  0.0  3.0   \n..        ...    ...           ...  ...   ...    ...  ...  ...   \n32 2022-03-13  14:00  Matchweek 29  Sun  Away      W  1.0  0.0   \n33 2022-03-18  20:00  Matchweek 30  Fri  Home      L  2.0  3.0   \n34 2022-04-02  15:00  Matchweek 31  Sat  Home      W  2.0  1.0   \n35 2022-04-08  20:00  Matchweek 32  Fri  Away      L  0.0  1.0   \n36 2022-04-24  14:00  Matchweek 34  Sun  Away      L  0.0  1.0   \n\n           opponent   xg  ...  hour  day_code  gf_rolling ga_rolling  \\\n6     Sheffield Utd  0.4  ...    14         6    2.000000   1.333333   \n7   Manchester City  0.9  ...    17         5    1.666667   1.666667   \n9    Leicester City  0.9  ...    19         6    1.000000   1.666667   \n11   Manchester Utd  1.1  ...    16         6    0.666667   1.000000   \n13      Aston Villa  1.5  ...    19         6    0.333333   0.666667   \n..              ...  ...  ...   ...       ...         ...        ...   \n32          Everton  0.8  ...    14         6    1.333333   1.000000   \n33     Leeds United  0.8  ...    20         4    1.666667   0.666667   \n34      Aston Villa  1.2  ...    15         5    2.333333   1.000000   \n35    Newcastle Utd  0.3  ...    20         4    1.666667   1.333333   \n36          Burnley  0.7  ...    14         6    1.333333   1.666667   \n\n   sh_rolling sot_rolling dist_rolling  fk_rolling  pk_rolling  pkatt_rolling  \n6    7.666667    3.666667    14.733333    0.666667    0.000000       0.000000  \n7    5.333333    3.666667    15.766667    0.000000    0.000000       0.000000  \n9    7.000000    3.666667    16.733333    0.666667    0.000000       0.000000  \n11   9.666667    4.000000    16.033333    1.000000    0.000000       0.000000  \n13   9.666667    2.666667    18.033333    1.000000    0.333333       0.333333  \n..        ...         ...          ...         ...         ...            ...  \n32  12.333333    3.666667    19.300000    0.000000    0.000000       0.000000  \n33  12.333333    4.333333    19.600000    0.000000    0.000000       0.000000  \n34  13.000000    5.333333    19.833333    0.000000    0.000000       0.000000  \n35  13.000000    5.000000    18.533333    0.000000    0.000000       0.000000  \n36  10.000000    4.666667    17.633333    0.000000    0.000000       0.000000  \n\n[1317 rows x 38 columns]",
      "text/html": "<div>\n<style scoped>\n    .dataframe tbody tr th:only-of-type {\n        vertical-align: middle;\n    }\n\n    .dataframe tbody tr th {\n        vertical-align: top;\n    }\n\n    .dataframe thead th {\n        text-align: right;\n    }\n</style>\n<table border=\"1\" class=\"dataframe\">\n  <thead>\n    <tr style=\"text-align: right;\">\n      <th></th>\n      <th>date</th>\n      <th>time</th>\n      <th>round</th>\n      <th>day</th>\n      <th>venue</th>\n      <th>result</th>\n      <th>gf</th>\n      <th>ga</th>\n      <th>opponent</th>\n      <th>xg</th>\n      <th>...</th>\n      <th>hour</th>\n      <th>day_code</th>\n      <th>gf_rolling</th>\n      <th>ga_rolling</th>\n      <th>sh_rolling</th>\n      <th>sot_rolling</th>\n      <th>dist_rolling</th>\n      <th>fk_rolling</th>\n      <th>pk_rolling</th>\n      <th>pkatt_rolling</th>\n    </tr>\n  </thead>\n  <tbody>\n    <tr>\n      <th>6</th>\n      <td>2020-10-04</td>\n      <td>14:00</td>\n      <td>Matchweek 4</td>\n      <td>Sun</td>\n      <td>Home</td>\n      <td>W</td>\n      <td>2.0</td>\n      <td>1.0</td>\n      <td>Sheffield Utd</td>\n      <td>0.4</td>\n      <td>...</td>\n      <td>14</td>\n      <td>6</td>\n      <td>2.000000</td>\n      <td>1.333333</td>\n      <td>7.666667</td>\n      <td>3.666667</td>\n      <td>14.733333</td>\n      <td>0.666667</td>\n      <td>0.000000</td>\n      <td>0.000000</td>\n    </tr>\n    <tr>\n      <th>7</th>\n      <td>2020-10-17</td>\n      <td>17:30</td>\n      <td>Matchweek 5</td>\n      <td>Sat</td>\n      <td>Away</td>\n      <td>L</td>\n      <td>0.0</td>\n      <td>1.0</td>\n      <td>Manchester City</td>\n      <td>0.9</td>\n      <td>...</td>\n      <td>17</td>\n      <td>5</td>\n      <td>1.666667</td>\n      <td>1.666667</td>\n      <td>5.333333</td>\n      <td>3.666667</td>\n      <td>15.766667</td>\n      <td>0.000000</td>\n      <td>0.000000</td>\n      <td>0.000000</td>\n    </tr>\n    <tr>\n      <th>9</th>\n      <td>2020-10-25</td>\n      <td>19:15</td>\n      <td>Matchweek 6</td>\n      <td>Sun</td>\n      <td>Home</td>\n      <td>L</td>\n      <td>0.0</td>\n      <td>1.0</td>\n      <td>Leicester City</td>\n      <td>0.9</td>\n      <td>...</td>\n      <td>19</td>\n      <td>6</td>\n      <td>1.000000</td>\n      <td>1.666667</td>\n      <td>7.000000</td>\n      <td>3.666667</td>\n      <td>16.733333</td>\n      <td>0.666667</td>\n      <td>0.000000</td>\n      <td>0.000000</td>\n    </tr>\n    <tr>\n      <th>11</th>\n      <td>2020-11-01</td>\n      <td>16:30</td>\n      <td>Matchweek 7</td>\n      <td>Sun</td>\n      <td>Away</td>\n      <td>W</td>\n      <td>1.0</td>\n      <td>0.0</td>\n      <td>Manchester Utd</td>\n      <td>1.1</td>\n      <td>...</td>\n      <td>16</td>\n      <td>6</td>\n      <td>0.666667</td>\n      <td>1.000000</td>\n      <td>9.666667</td>\n      <td>4.000000</td>\n      <td>16.033333</td>\n      <td>1.000000</td>\n      <td>0.000000</td>\n      <td>0.000000</td>\n    </tr>\n    <tr>\n      <th>13</th>\n      <td>2020-11-08</td>\n      <td>19:15</td>\n      <td>Matchweek 8</td>\n      <td>Sun</td>\n      <td>Home</td>\n      <td>L</td>\n      <td>0.0</td>\n      <td>3.0</td>\n      <td>Aston Villa</td>\n      <td>1.5</td>\n      <td>...</td>\n      <td>19</td>\n      <td>6</td>\n      <td>0.333333</td>\n      <td>0.666667</td>\n      <td>9.666667</td>\n      <td>2.666667</td>\n      <td>18.033333</td>\n      <td>1.000000</td>\n      <td>0.333333</td>\n      <td>0.333333</td>\n    </tr>\n    <tr>\n      <th>...</th>\n      <td>...</td>\n      <td>...</td>\n      <td>...</td>\n      <td>...</td>\n      <td>...</td>\n      <td>...</td>\n      <td>...</td>\n      <td>...</td>\n      <td>...</td>\n      <td>...</td>\n      <td>...</td>\n      <td>...</td>\n      <td>...</td>\n      <td>...</td>\n      <td>...</td>\n      <td>...</td>\n      <td>...</td>\n      <td>...</td>\n      <td>...</td>\n      <td>...</td>\n      <td>...</td>\n    </tr>\n    <tr>\n      <th>32</th>\n      <td>2022-03-13</td>\n      <td>14:00</td>\n      <td>Matchweek 29</td>\n      <td>Sun</td>\n      <td>Away</td>\n      <td>W</td>\n      <td>1.0</td>\n      <td>0.0</td>\n      <td>Everton</td>\n      <td>0.8</td>\n      <td>...</td>\n      <td>14</td>\n      <td>6</td>\n      <td>1.333333</td>\n      <td>1.000000</td>\n      <td>12.333333</td>\n      <td>3.666667</td>\n      <td>19.300000</td>\n      <td>0.000000</td>\n      <td>0.000000</td>\n      <td>0.000000</td>\n    </tr>\n    <tr>\n      <th>33</th>\n      <td>2022-03-18</td>\n      <td>20:00</td>\n      <td>Matchweek 30</td>\n      <td>Fri</td>\n      <td>Home</td>\n      <td>L</td>\n      <td>2.0</td>\n      <td>3.0</td>\n      <td>Leeds United</td>\n      <td>0.8</td>\n      <td>...</td>\n      <td>20</td>\n      <td>4</td>\n      <td>1.666667</td>\n      <td>0.666667</td>\n      <td>12.333333</td>\n      <td>4.333333</td>\n      <td>19.600000</td>\n      <td>0.000000</td>\n      <td>0.000000</td>\n      <td>0.000000</td>\n    </tr>\n    <tr>\n      <th>34</th>\n      <td>2022-04-02</td>\n      <td>15:00</td>\n      <td>Matchweek 31</td>\n      <td>Sat</td>\n      <td>Home</td>\n      <td>W</td>\n      <td>2.0</td>\n      <td>1.0</td>\n      <td>Aston Villa</td>\n      <td>1.2</td>\n      <td>...</td>\n      <td>15</td>\n      <td>5</td>\n      <td>2.333333</td>\n      <td>1.000000</td>\n      <td>13.000000</td>\n      <td>5.333333</td>\n      <td>19.833333</td>\n      <td>0.000000</td>\n      <td>0.000000</td>\n      <td>0.000000</td>\n    </tr>\n    <tr>\n      <th>35</th>\n      <td>2022-04-08</td>\n      <td>20:00</td>\n      <td>Matchweek 32</td>\n      <td>Fri</td>\n      <td>Away</td>\n      <td>L</td>\n      <td>0.0</td>\n      <td>1.0</td>\n      <td>Newcastle Utd</td>\n      <td>0.3</td>\n      <td>...</td>\n      <td>20</td>\n      <td>4</td>\n      <td>1.666667</td>\n      <td>1.333333</td>\n      <td>13.000000</td>\n      <td>5.000000</td>\n      <td>18.533333</td>\n      <td>0.000000</td>\n      <td>0.000000</td>\n      <td>0.000000</td>\n    </tr>\n    <tr>\n      <th>36</th>\n      <td>2022-04-24</td>\n      <td>14:00</td>\n      <td>Matchweek 34</td>\n      <td>Sun</td>\n      <td>Away</td>\n      <td>L</td>\n      <td>0.0</td>\n      <td>1.0</td>\n      <td>Burnley</td>\n      <td>0.7</td>\n      <td>...</td>\n      <td>14</td>\n      <td>6</td>\n      <td>1.333333</td>\n      <td>1.666667</td>\n      <td>10.000000</td>\n      <td>4.666667</td>\n      <td>17.633333</td>\n      <td>0.000000</td>\n      <td>0.000000</td>\n      <td>0.000000</td>\n    </tr>\n  </tbody>\n</table>\n<p>1317 rows × 38 columns</p>\n</div>"
     },
     "execution_count": 43,
     "metadata": {},
     "output_type": "execute_result"
    }
   ],
   "source": [
    "matches_rolling"
   ],
   "metadata": {
    "collapsed": false,
    "ExecuteTime": {
     "end_time": "2024-04-11T12:51:42.269203Z",
     "start_time": "2024-04-11T12:51:42.249721Z"
    }
   },
   "id": "e811062935eebec9",
   "execution_count": 43
  },
  {
   "cell_type": "code",
   "outputs": [],
   "source": [
    "matches_rolling.index = range(matches_rolling.shape[0])"
   ],
   "metadata": {
    "collapsed": false,
    "ExecuteTime": {
     "end_time": "2024-04-11T12:51:54.251312Z",
     "start_time": "2024-04-11T12:51:54.228175Z"
    }
   },
   "id": "7c38f3724936eff1",
   "execution_count": 44
  },
  {
   "cell_type": "code",
   "outputs": [],
   "source": [
    "def make_predictions(data, predictors):\n",
    "    train = data[data[\"date\"] < '2022-01-01']\n",
    "    test = data[data[\"date\"] > '2022-01-01']\n",
    "    rf.fit(train[predictors], train[\"target\"])\n",
    "    preds = rf.predict(test[predictors])\n",
    "    combined = pd.DataFrame(dict(actual=test[\"target\"], predicted=preds), index=test.index)\n",
    "    error = precision_score(test[\"target\"], preds)\n",
    "    return combined, error"
   ],
   "metadata": {
    "collapsed": false,
    "ExecuteTime": {
     "end_time": "2024-04-11T12:52:03.234784Z",
     "start_time": "2024-04-11T12:52:03.221717Z"
    }
   },
   "id": "3ad6137c4ccc2449",
   "execution_count": 45
  },
  {
   "cell_type": "code",
   "outputs": [],
   "source": [
    "combined, error = make_predictions(matches_rolling, predictors + new_cols)"
   ],
   "metadata": {
    "collapsed": false,
    "ExecuteTime": {
     "end_time": "2024-04-11T12:52:10.330275Z",
     "start_time": "2024-04-11T12:52:10.253825Z"
    }
   },
   "id": "f5ab72ab499807c9",
   "execution_count": 46
  },
  {
   "cell_type": "code",
   "outputs": [],
   "source": [
    "combined = combined.merge(matches_rolling[[\"date\", \"team\", \"opponent\", \"result\"]], left_index=True, right_index=True)"
   ],
   "metadata": {
    "collapsed": false,
    "ExecuteTime": {
     "end_time": "2024-04-11T12:52:23.714639Z",
     "start_time": "2024-04-11T12:52:23.712210Z"
    }
   },
   "id": "175abe00a2b38cc",
   "execution_count": 47
  },
  {
   "cell_type": "code",
   "outputs": [
    {
     "data": {
      "text/plain": "    actual  predicted       date     team        opponent result\n55       0          0 2022-01-23  Arsenal         Burnley      D\n56       1          0 2022-02-10  Arsenal          Wolves      W\n57       1          0 2022-02-19  Arsenal       Brentford      W\n58       1          1 2022-02-24  Arsenal          Wolves      W\n59       1          1 2022-03-06  Arsenal         Watford      W\n60       1          1 2022-03-13  Arsenal  Leicester City      W\n61       0          1 2022-03-16  Arsenal       Liverpool      L\n62       1          0 2022-03-19  Arsenal     Aston Villa      W\n63       0          0 2022-04-04  Arsenal  Crystal Palace      L\n64       0          0 2022-04-09  Arsenal        Brighton      L",
      "text/html": "<div>\n<style scoped>\n    .dataframe tbody tr th:only-of-type {\n        vertical-align: middle;\n    }\n\n    .dataframe tbody tr th {\n        vertical-align: top;\n    }\n\n    .dataframe thead th {\n        text-align: right;\n    }\n</style>\n<table border=\"1\" class=\"dataframe\">\n  <thead>\n    <tr style=\"text-align: right;\">\n      <th></th>\n      <th>actual</th>\n      <th>predicted</th>\n      <th>date</th>\n      <th>team</th>\n      <th>opponent</th>\n      <th>result</th>\n    </tr>\n  </thead>\n  <tbody>\n    <tr>\n      <th>55</th>\n      <td>0</td>\n      <td>0</td>\n      <td>2022-01-23</td>\n      <td>Arsenal</td>\n      <td>Burnley</td>\n      <td>D</td>\n    </tr>\n    <tr>\n      <th>56</th>\n      <td>1</td>\n      <td>0</td>\n      <td>2022-02-10</td>\n      <td>Arsenal</td>\n      <td>Wolves</td>\n      <td>W</td>\n    </tr>\n    <tr>\n      <th>57</th>\n      <td>1</td>\n      <td>0</td>\n      <td>2022-02-19</td>\n      <td>Arsenal</td>\n      <td>Brentford</td>\n      <td>W</td>\n    </tr>\n    <tr>\n      <th>58</th>\n      <td>1</td>\n      <td>1</td>\n      <td>2022-02-24</td>\n      <td>Arsenal</td>\n      <td>Wolves</td>\n      <td>W</td>\n    </tr>\n    <tr>\n      <th>59</th>\n      <td>1</td>\n      <td>1</td>\n      <td>2022-03-06</td>\n      <td>Arsenal</td>\n      <td>Watford</td>\n      <td>W</td>\n    </tr>\n    <tr>\n      <th>60</th>\n      <td>1</td>\n      <td>1</td>\n      <td>2022-03-13</td>\n      <td>Arsenal</td>\n      <td>Leicester City</td>\n      <td>W</td>\n    </tr>\n    <tr>\n      <th>61</th>\n      <td>0</td>\n      <td>1</td>\n      <td>2022-03-16</td>\n      <td>Arsenal</td>\n      <td>Liverpool</td>\n      <td>L</td>\n    </tr>\n    <tr>\n      <th>62</th>\n      <td>1</td>\n      <td>0</td>\n      <td>2022-03-19</td>\n      <td>Arsenal</td>\n      <td>Aston Villa</td>\n      <td>W</td>\n    </tr>\n    <tr>\n      <th>63</th>\n      <td>0</td>\n      <td>0</td>\n      <td>2022-04-04</td>\n      <td>Arsenal</td>\n      <td>Crystal Palace</td>\n      <td>L</td>\n    </tr>\n    <tr>\n      <th>64</th>\n      <td>0</td>\n      <td>0</td>\n      <td>2022-04-09</td>\n      <td>Arsenal</td>\n      <td>Brighton</td>\n      <td>L</td>\n    </tr>\n  </tbody>\n</table>\n</div>"
     },
     "execution_count": 48,
     "metadata": {},
     "output_type": "execute_result"
    }
   ],
   "source": [
    "combined.head(10)"
   ],
   "metadata": {
    "collapsed": false,
    "ExecuteTime": {
     "end_time": "2024-04-11T12:52:38.183986Z",
     "start_time": "2024-04-11T12:52:38.177270Z"
    }
   },
   "id": "17b4b45a9071a68b",
   "execution_count": 48
  },
  {
   "cell_type": "code",
   "outputs": [],
   "source": [
    "class MissingDict(dict):\n",
    "    __missing__ = lambda self, key: key\n",
    "\n",
    "map_values = {\"Brighton and Hove Albion\": \"Brighton\", \"Manchester United\": \"Manchester Utd\", \"Newcastle United\": \"Newcastle Utd\", \"Tottenham Hotspur\": \"Tottenham\", \"West Ham United\": \"West Ham\", \"Wolverhampton Wanderers\": \"Wolves\"} \n",
    "mapping = MissingDict(**map_values)"
   ],
   "metadata": {
    "collapsed": false,
    "ExecuteTime": {
     "end_time": "2024-04-11T12:52:46.774546Z",
     "start_time": "2024-04-11T12:52:46.759761Z"
    }
   },
   "id": "fb2bceb16c480265",
   "execution_count": 49
  },
  {
   "cell_type": "code",
   "outputs": [],
   "source": [
    "combined[\"new_team\"] = combined[\"team\"].map(mapping)"
   ],
   "metadata": {
    "collapsed": false,
    "ExecuteTime": {
     "end_time": "2024-04-11T12:52:53.713181Z",
     "start_time": "2024-04-11T12:52:53.701769Z"
    }
   },
   "id": "210d8495e4b0122a",
   "execution_count": 50
  },
  {
   "cell_type": "code",
   "outputs": [],
   "source": [
    "merged = combined.merge(combined, left_on=[\"date\", \"new_team\"], right_on=[\"date\", \"opponent\"])"
   ],
   "metadata": {
    "collapsed": false,
    "ExecuteTime": {
     "end_time": "2024-04-11T12:53:00.354683Z",
     "start_time": "2024-04-11T12:53:00.343190Z"
    }
   },
   "id": "cbfd3aded639a38e",
   "execution_count": 51
  },
  {
   "cell_type": "code",
   "outputs": [
    {
     "data": {
      "text/plain": "     actual_x  predicted_x       date                   team_x     opponent_x  \\\n0           0            0 2022-01-23                  Arsenal        Burnley   \n1           1            0 2022-02-10                  Arsenal         Wolves   \n2           1            0 2022-02-19                  Arsenal      Brentford   \n3           1            1 2022-02-24                  Arsenal         Wolves   \n4           1            1 2022-03-06                  Arsenal        Watford   \n..        ...          ...        ...                      ...            ...   \n257         1            0 2022-03-13  Wolverhampton Wanderers        Everton   \n258         0            0 2022-03-18  Wolverhampton Wanderers   Leeds United   \n259         1            0 2022-04-02  Wolverhampton Wanderers    Aston Villa   \n260         0            0 2022-04-08  Wolverhampton Wanderers  Newcastle Utd   \n261         0            0 2022-04-24  Wolverhampton Wanderers        Burnley   \n\n    result_x new_team_x  actual_y  predicted_y                   team_y  \\\n0          D    Arsenal         0            0                  Burnley   \n1          W    Arsenal         0            0  Wolverhampton Wanderers   \n2          W    Arsenal         0            0                Brentford   \n3          W    Arsenal         0            0  Wolverhampton Wanderers   \n4          W    Arsenal         0            0                  Watford   \n..       ...        ...       ...          ...                      ...   \n257        W     Wolves         0            0                  Everton   \n258        L     Wolves         1            0             Leeds United   \n259        W     Wolves         0            0              Aston Villa   \n260        L     Wolves         1            0         Newcastle United   \n261        L     Wolves         1            0                  Burnley   \n\n    opponent_y result_y     new_team_y  \n0      Arsenal        D        Burnley  \n1      Arsenal        L         Wolves  \n2      Arsenal        L      Brentford  \n3      Arsenal        L         Wolves  \n4      Arsenal        L        Watford  \n..         ...      ...            ...  \n257     Wolves        L        Everton  \n258     Wolves        W   Leeds United  \n259     Wolves        L    Aston Villa  \n260     Wolves        W  Newcastle Utd  \n261     Wolves        W        Burnley  \n\n[262 rows x 13 columns]",
      "text/html": "<div>\n<style scoped>\n    .dataframe tbody tr th:only-of-type {\n        vertical-align: middle;\n    }\n\n    .dataframe tbody tr th {\n        vertical-align: top;\n    }\n\n    .dataframe thead th {\n        text-align: right;\n    }\n</style>\n<table border=\"1\" class=\"dataframe\">\n  <thead>\n    <tr style=\"text-align: right;\">\n      <th></th>\n      <th>actual_x</th>\n      <th>predicted_x</th>\n      <th>date</th>\n      <th>team_x</th>\n      <th>opponent_x</th>\n      <th>result_x</th>\n      <th>new_team_x</th>\n      <th>actual_y</th>\n      <th>predicted_y</th>\n      <th>team_y</th>\n      <th>opponent_y</th>\n      <th>result_y</th>\n      <th>new_team_y</th>\n    </tr>\n  </thead>\n  <tbody>\n    <tr>\n      <th>0</th>\n      <td>0</td>\n      <td>0</td>\n      <td>2022-01-23</td>\n      <td>Arsenal</td>\n      <td>Burnley</td>\n      <td>D</td>\n      <td>Arsenal</td>\n      <td>0</td>\n      <td>0</td>\n      <td>Burnley</td>\n      <td>Arsenal</td>\n      <td>D</td>\n      <td>Burnley</td>\n    </tr>\n    <tr>\n      <th>1</th>\n      <td>1</td>\n      <td>0</td>\n      <td>2022-02-10</td>\n      <td>Arsenal</td>\n      <td>Wolves</td>\n      <td>W</td>\n      <td>Arsenal</td>\n      <td>0</td>\n      <td>0</td>\n      <td>Wolverhampton Wanderers</td>\n      <td>Arsenal</td>\n      <td>L</td>\n      <td>Wolves</td>\n    </tr>\n    <tr>\n      <th>2</th>\n      <td>1</td>\n      <td>0</td>\n      <td>2022-02-19</td>\n      <td>Arsenal</td>\n      <td>Brentford</td>\n      <td>W</td>\n      <td>Arsenal</td>\n      <td>0</td>\n      <td>0</td>\n      <td>Brentford</td>\n      <td>Arsenal</td>\n      <td>L</td>\n      <td>Brentford</td>\n    </tr>\n    <tr>\n      <th>3</th>\n      <td>1</td>\n      <td>1</td>\n      <td>2022-02-24</td>\n      <td>Arsenal</td>\n      <td>Wolves</td>\n      <td>W</td>\n      <td>Arsenal</td>\n      <td>0</td>\n      <td>0</td>\n      <td>Wolverhampton Wanderers</td>\n      <td>Arsenal</td>\n      <td>L</td>\n      <td>Wolves</td>\n    </tr>\n    <tr>\n      <th>4</th>\n      <td>1</td>\n      <td>1</td>\n      <td>2022-03-06</td>\n      <td>Arsenal</td>\n      <td>Watford</td>\n      <td>W</td>\n      <td>Arsenal</td>\n      <td>0</td>\n      <td>0</td>\n      <td>Watford</td>\n      <td>Arsenal</td>\n      <td>L</td>\n      <td>Watford</td>\n    </tr>\n    <tr>\n      <th>...</th>\n      <td>...</td>\n      <td>...</td>\n      <td>...</td>\n      <td>...</td>\n      <td>...</td>\n      <td>...</td>\n      <td>...</td>\n      <td>...</td>\n      <td>...</td>\n      <td>...</td>\n      <td>...</td>\n      <td>...</td>\n      <td>...</td>\n    </tr>\n    <tr>\n      <th>257</th>\n      <td>1</td>\n      <td>0</td>\n      <td>2022-03-13</td>\n      <td>Wolverhampton Wanderers</td>\n      <td>Everton</td>\n      <td>W</td>\n      <td>Wolves</td>\n      <td>0</td>\n      <td>0</td>\n      <td>Everton</td>\n      <td>Wolves</td>\n      <td>L</td>\n      <td>Everton</td>\n    </tr>\n    <tr>\n      <th>258</th>\n      <td>0</td>\n      <td>0</td>\n      <td>2022-03-18</td>\n      <td>Wolverhampton Wanderers</td>\n      <td>Leeds United</td>\n      <td>L</td>\n      <td>Wolves</td>\n      <td>1</td>\n      <td>0</td>\n      <td>Leeds United</td>\n      <td>Wolves</td>\n      <td>W</td>\n      <td>Leeds United</td>\n    </tr>\n    <tr>\n      <th>259</th>\n      <td>1</td>\n      <td>0</td>\n      <td>2022-04-02</td>\n      <td>Wolverhampton Wanderers</td>\n      <td>Aston Villa</td>\n      <td>W</td>\n      <td>Wolves</td>\n      <td>0</td>\n      <td>0</td>\n      <td>Aston Villa</td>\n      <td>Wolves</td>\n      <td>L</td>\n      <td>Aston Villa</td>\n    </tr>\n    <tr>\n      <th>260</th>\n      <td>0</td>\n      <td>0</td>\n      <td>2022-04-08</td>\n      <td>Wolverhampton Wanderers</td>\n      <td>Newcastle Utd</td>\n      <td>L</td>\n      <td>Wolves</td>\n      <td>1</td>\n      <td>0</td>\n      <td>Newcastle United</td>\n      <td>Wolves</td>\n      <td>W</td>\n      <td>Newcastle Utd</td>\n    </tr>\n    <tr>\n      <th>261</th>\n      <td>0</td>\n      <td>0</td>\n      <td>2022-04-24</td>\n      <td>Wolverhampton Wanderers</td>\n      <td>Burnley</td>\n      <td>L</td>\n      <td>Wolves</td>\n      <td>1</td>\n      <td>0</td>\n      <td>Burnley</td>\n      <td>Wolves</td>\n      <td>W</td>\n      <td>Burnley</td>\n    </tr>\n  </tbody>\n</table>\n<p>262 rows × 13 columns</p>\n</div>"
     },
     "execution_count": 52,
     "metadata": {},
     "output_type": "execute_result"
    }
   ],
   "source": [
    "merged"
   ],
   "metadata": {
    "collapsed": false,
    "ExecuteTime": {
     "end_time": "2024-04-11T12:53:06.676340Z",
     "start_time": "2024-04-11T12:53:06.655230Z"
    }
   },
   "id": "5d1eafc374cf0b34",
   "execution_count": 52
  },
  {
   "cell_type": "code",
   "outputs": [
    {
     "data": {
      "text/plain": "actual_x\n1    27\n0    13\nName: count, dtype: int64"
     },
     "execution_count": 53,
     "metadata": {},
     "output_type": "execute_result"
    }
   ],
   "source": [
    "merged[(merged[\"predicted_x\"] == 1) & (merged[\"predicted_y\"] ==0)][\"actual_x\"].value_counts()"
   ],
   "metadata": {
    "collapsed": false,
    "ExecuteTime": {
     "end_time": "2024-04-11T12:53:15.927445Z",
     "start_time": "2024-04-11T12:53:15.899166Z"
    }
   },
   "id": "f4303ca300cf745f",
   "execution_count": 53
  },
  {
   "cell_type": "code",
   "outputs": [],
   "source": [],
   "metadata": {
    "collapsed": false
   },
   "id": "a9acb94d1983bc30"
  }
 ],
 "metadata": {
  "kernelspec": {
   "display_name": "Python 3",
   "language": "python",
   "name": "python3"
  },
  "language_info": {
   "codemirror_mode": {
    "name": "ipython",
    "version": 2
   },
   "file_extension": ".py",
   "mimetype": "text/x-python",
   "name": "python",
   "nbconvert_exporter": "python",
   "pygments_lexer": "ipython2",
   "version": "2.7.6"
  }
 },
 "nbformat": 4,
 "nbformat_minor": 5
}
